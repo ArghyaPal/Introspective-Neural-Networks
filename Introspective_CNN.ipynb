{
  "nbformat": 4,
  "nbformat_minor": 0,
  "metadata": {
    "colab": {
      "name": "Introspective CNN.ipynb",
      "version": "0.3.2",
      "provenance": [],
      "collapsed_sections": [],
      "include_colab_link": true
    },
    "kernelspec": {
      "name": "python3",
      "display_name": "Python 3"
    },
    "accelerator": "GPU"
  },
  "cells": [
    {
      "cell_type": "markdown",
      "metadata": {
        "id": "view-in-github",
        "colab_type": "text"
      },
      "source": [
        "<a href=\"https://colab.research.google.com/github/blufzzz/Introspective-Neural-Networks/blob/master/Introspective_CNN.ipynb\" target=\"_parent\"><img src=\"https://colab.research.google.com/assets/colab-badge.svg\" alt=\"Open In Colab\"/></a>"
      ]
    },
    {
      "metadata": {
        "id": "Gxzx0pAycds2",
        "colab_type": "code",
        "colab": {}
      },
      "cell_type": "code",
      "source": [
        "import torch\n",
        "import torchvision\n",
        "from torch import nn\n",
        "import torchvision\n",
        "from torchvision.models import resnet18"
      ],
      "execution_count": 0,
      "outputs": []
    },
    {
      "metadata": {
        "id": "pAi85saGd7I_",
        "colab_type": "code",
        "outputId": "9d3e2b0d-b434-4e13-b72e-3828d709168b",
        "colab": {
          "base_uri": "https://localhost:8080/",
          "height": 34
        }
      },
      "cell_type": "code",
      "source": [
        "model = resnet18(pretrained = True)\n",
        "X = torch.randn(1,3,256,256)\n",
        "model.forward(X).shape"
      ],
      "execution_count": 82,
      "outputs": [
        {
          "output_type": "execute_result",
          "data": {
            "text/plain": [
              "torch.Size([1, 1000])"
            ]
          },
          "metadata": {
            "tags": []
          },
          "execution_count": 82
        }
      ]
    },
    {
      "metadata": {
        "id": "el8YljnNddcC",
        "colab_type": "code",
        "colab": {}
      },
      "cell_type": "code",
      "source": [
        "class ICNN(nn.Module):\n",
        "  \n",
        "  def __init__(self, cnn_model, n_classes = False):\n",
        "      super(ICNN, self).__init__()\n",
        "      \n",
        "      self.conv_features = [] # store conv_features for all passes\n",
        "      self.model = cnn_model\n",
        "      self.n_classes = n_classes\n",
        "      self.sigmoid = nn.Sigmoid()\n",
        "\n",
        "      self.model.fc = nn.Linear(in_features=512, out_features=1, bias=True)\n",
        "      \n",
        "  def forward(self, input, sigmoid = False):\n",
        "      \n",
        "      hook = lambda module, input, output: self.conv_features.append(output)\n",
        "      self.model.avgpool.register_forward_hook(hook)\n",
        "      output = self.model.forward(input)\n",
        "      \n",
        "#       # OVR classification\n",
        "#       if n_classes:\n",
        "#           # we took conv_features from the last forward pass\n",
        "#           output = [fc(self.conv_features[-1]) for fc in self.fc_layers]\n",
        "      \n",
        "      if sigmoid:\n",
        "          return  self.sigmoid(output)\n",
        "      \n",
        "      return output\n"
      ],
      "execution_count": 0,
      "outputs": []
    },
    {
      "metadata": {
        "id": "CsKPUZjemAKp",
        "colab_type": "code",
        "outputId": "5fb4b5f4-ca95-420a-ad34-65b2f8dcabe1",
        "colab": {
          "base_uri": "https://localhost:8080/",
          "height": 34
        }
      },
      "cell_type": "code",
      "source": [
        "X = torch.randn(2,3,256,256)\n",
        "icnn_model = ICNN(model)\n",
        "print(icnn_model.forward(X, sigmoid=True).shape)"
      ],
      "execution_count": 86,
      "outputs": [
        {
          "output_type": "stream",
          "text": [
            "torch.Size([2, 1])\n"
          ],
          "name": "stdout"
        }
      ]
    }
  ]
}