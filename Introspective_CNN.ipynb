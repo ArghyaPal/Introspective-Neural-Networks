{
  "nbformat": 4,
  "nbformat_minor": 0,
  "metadata": {
    "colab": {
      "name": "Introspective CNN.ipynb",
      "version": "0.3.2",
      "provenance": [],
      "collapsed_sections": [],
      "include_colab_link": true
    },
    "kernelspec": {
      "name": "python3",
      "display_name": "Python 3"
    },
    "accelerator": "GPU"
  },
  "cells": [
    {
      "cell_type": "markdown",
      "metadata": {
        "id": "view-in-github",
        "colab_type": "text"
      },
      "source": [
        "<a href=\"https://colab.research.google.com/github/blufzzz/Introspective-Neural-Networks/blob/master/Introspective_CNN.ipynb\" target=\"_parent\"><img src=\"https://colab.research.google.com/assets/colab-badge.svg\" alt=\"Open In Colab\"/></a>"
      ]
    },
    {
      "metadata": {
        "id": "Gxzx0pAycds2",
        "colab_type": "code",
        "colab": {}
      },
      "cell_type": "code",
      "source": [
        "import torch\n",
        "import torchvision\n",
        "from torch import nn\n",
        "import torchvision\n",
        "from torchvision.models import resnet18\n"
      ],
      "execution_count": 0,
      "outputs": []
    },
    {
      "metadata": {
        "id": "pAi85saGd7I_",
        "colab_type": "code",
        "outputId": "69daad2b-dd5e-4285-e314-c674d6dbbf40",
        "colab": {
          "base_uri": "https://localhost:8080/",
          "height": 34
        }
      },
      "cell_type": "code",
      "source": [
        "model = resnet18(pretrained = True)\n",
        "X = torch.randn(1,3,256,256)\n",
        "model.forward(X).shape"
      ],
      "execution_count": 3,
      "outputs": [
        {
          "output_type": "execute_result",
          "data": {
            "text/plain": [
              "torch.Size([1, 1000])"
            ]
          },
          "metadata": {
            "tags": []
          },
          "execution_count": 3
        }
      ]
    },
    {
      "metadata": {
        "id": "drfFwwmgHMTV",
        "colab_type": "text"
      },
      "cell_type": "markdown",
      "source": [
        "# INN Model"
      ]
    },
    {
      "metadata": {
        "id": "oiXVB8_RHCZI",
        "colab_type": "code",
        "colab": {}
      },
      "cell_type": "code",
      "source": [
        "class Synthesis():\n",
        "    def __init__(self, init_std=0.3, noise_grad_std=None):\n",
        "        self.init_std = init_std;\n",
        "        self.noise_grad_std = noise_grad_std;\n",
        "        \n",
        "    def sample(self, module, num_iter=10, learning_rate=1e-2):\n",
        "        assert isinstance(module.X, torch.nn.Parameter), 'Expected X to be an instance of torch.nn.Parameter';\n",
        "        \n",
        "        # we do not want to create a graph and do backprop on net parameters, since we need only gradient of X\n",
        "        for name, param in module.named_parameters():\n",
        "            if name != 'X':\n",
        "                param.requires_grad = False;\n",
        "            else:\n",
        "                param.requires_grad = True;\n",
        "        \n",
        "        module.X.data = module.X.data.normal_(mean=0, std=self.init_std);\n",
        "        opt = torch.optim.SGD([module.X], lr=learning_rate);\n",
        "        \n",
        "        for i in range(num_iter):\n",
        "            opt.zero_grad();\n",
        "            classes = -module.to_synth();\n",
        "            for j in range(classes.shape[0]):\n",
        "                classes[j, ...].backward(retain_graph=True);\n",
        "                \n",
        "            if self.noise_grad_std is not None:\n",
        "                module.X.data += torch.empty_like(module.X.data).normal_(mean=0, std=self.noise_grad_std);\n",
        "            \n",
        "            opt.step()\n",
        "                \n",
        "        return module.X.data;"
      ],
      "execution_count": 0,
      "outputs": []
    },
    {
      "metadata": {
        "id": "el8YljnNddcC",
        "colab_type": "code",
        "colab": {}
      },
      "cell_type": "code",
      "source": [
        "class ICNN(nn.Module):\n",
        "  \n",
        "  def __init__(self, cnn_model, size, std=0.3, n_classes = False):\n",
        "      super(ICNN, self).__init__()\n",
        "      \n",
        "      self.conv_features = [] # store conv_features for all passes\n",
        "      self.model = cnn_model\n",
        "      self.n_classes = n_classes\n",
        "      self.sigmoid = nn.Sigmoid()\n",
        "      self.model.fc = nn.Linear(in_features=512, out_features=1, bias=True)\n",
        "      self.X = torch.nn.Parameter(torch.empty(size).normal_(mean=0, std=std));\n",
        "      self.X.requires_grad = False;\n",
        "      \n",
        "  def forward(self, input, sigmoid = False):\n",
        "      \n",
        "      hook = lambda module, input, output: self.conv_features.append(output)\n",
        "      self.model.avgpool.register_forward_hook(hook)\n",
        "      output = self.model.forward(input)\n",
        "      \n",
        "      return self.sigmoid(output)\n",
        "    \n",
        "  def to_synth(self):\n",
        "      \n",
        "      hook = lambda module, input, output: self.conv_features.append(output)\n",
        "      self.model.avgpool.register_forward_hook(hook)\n",
        "      \n",
        "      return self.model.forward(self.X)"
      ],
      "execution_count": 0,
      "outputs": []
    },
    {
      "metadata": {
        "id": "CsKPUZjemAKp",
        "colab_type": "code",
        "colab": {}
      },
      "cell_type": "code",
      "source": [
        "X = torch.randn(2,3,256,256)\n",
        "icnn_model = ICNN(model, X.size())\n",
        "s = Synthesis(init_std=0.3);\n",
        "result = s.sample(icnn_model, num_iter=5, learning_rate=1e-1)"
      ],
      "execution_count": 0,
      "outputs": []
    },
    {
      "metadata": {
        "id": "XWcui3EvLxFI",
        "colab_type": "code",
        "colab": {
          "base_uri": "https://localhost:8080/",
          "height": 34
        },
        "outputId": "c8727c7e-009d-477d-c5d0-c58327b5a59f"
      },
      "cell_type": "code",
      "source": [
        "result.shape"
      ],
      "execution_count": 19,
      "outputs": [
        {
          "output_type": "execute_result",
          "data": {
            "text/plain": [
              "torch.Size([2, 3, 256, 256])"
            ]
          },
          "metadata": {
            "tags": []
          },
          "execution_count": 19
        }
      ]
    },
    {
      "metadata": {
        "id": "A7buLt5_HIm5",
        "colab_type": "text"
      },
      "cell_type": "markdown",
      "source": [
        "# Wasserstein loss"
      ]
    },
    {
      "metadata": {
        "id": "yXdwKFsuiRn2",
        "colab_type": "code",
        "colab": {}
      },
      "cell_type": "code",
      "source": [
        "batch_size = 16\n",
        "n=100\n",
        "X = torch.randn(100, 3, 256, 256)\n",
        "y = torch.LongTensor(n).random_(2)*2-1\n",
        "X_1 = X[y==1]\n",
        "X_2 = X[y==-1]"
      ],
      "execution_count": 0,
      "outputs": []
    },
    {
      "metadata": {
        "id": "zPtG5e3vjc1Z",
        "colab_type": "code",
        "colab": {}
      },
      "cell_type": "code",
      "source": [
        "batch_1 = X_1[torch.LongTensor(batch_size).random_(len(X_1))]\n",
        "batch_2 = X_2[torch.LongTensor(batch_size).random_(len(X_2))]\n",
        "alphas = torch.FloatTensor(batch_size).uniform_(0,1)\n",
        "batch_hat = torch.zeros_like(batch_1,requires_grad=True)\n",
        "for i in range(batch_size):\n",
        "  batch_hat[i]=batch_1[i]*alphas[i]+batch_2[i]*(1-alphas[i])"
      ],
      "execution_count": 0,
      "outputs": []
    },
    {
      "metadata": {
        "id": "UpwFG0RRkQ-1",
        "colab_type": "code",
        "colab": {}
      },
      "cell_type": "code",
      "source": [
        "icnn_model=ICNN(model)\n",
        "f_1 = icnn_model.forward(batch_1, sigmoid=False)\n",
        "f_2 = icnn_model.forward(batch_2, sigmoid=False)\n",
        "f_hat = icnn_model.forward(batch_hat, sigmoid=False)"
      ],
      "execution_count": 0,
      "outputs": []
    },
    {
      "metadata": {
        "id": "Fk9VsLc8i9RZ",
        "colab_type": "code",
        "colab": {}
      },
      "cell_type": "code",
      "source": [
        "grads_hat = torch.zeros_like(batch_hat)\n",
        "for i in range(batch_size):\n",
        "  grads_hat[i]=torch.autograd.grad(f_hat[i],batch_hat,retain_graph=True)[0][i]"
      ],
      "execution_count": 0,
      "outputs": []
    },
    {
      "metadata": {
        "id": "CV0s7LWvlI1X",
        "colab_type": "code",
        "colab": {}
      },
      "cell_type": "code",
      "source": [
        "loss = 0\n",
        "for i in range(batch_size):\n",
        "  loss+=f_2[i]-f_1[i]+torch.norm(grads_hat[i],p=2)\n",
        "\n",
        "loss/=batch_size"
      ],
      "execution_count": 0,
      "outputs": []
    },
    {
      "metadata": {
        "id": "1MvzHjohk4qB",
        "colab_type": "code",
        "colab": {}
      },
      "cell_type": "code",
      "source": [
        "loss.backward()"
      ],
      "execution_count": 0,
      "outputs": []
    },
    {
      "metadata": {
        "id": "KAl4hLEylghF",
        "colab_type": "code",
        "colab": {}
      },
      "cell_type": "code",
      "source": [
        ""
      ],
      "execution_count": 0,
      "outputs": []
    }
  ]
}