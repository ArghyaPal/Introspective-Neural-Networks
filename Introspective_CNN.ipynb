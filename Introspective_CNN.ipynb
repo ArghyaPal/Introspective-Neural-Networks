{
  "nbformat": 4,
  "nbformat_minor": 0,
  "metadata": {
    "colab": {
      "name": "Introspective CNN.ipynb",
      "version": "0.3.2",
      "provenance": [],
      "collapsed_sections": [],
      "include_colab_link": true
    },
    "kernelspec": {
      "name": "python3",
      "display_name": "Python 3"
    },
    "accelerator": "GPU"
  },
  "cells": [
    {
      "cell_type": "markdown",
      "metadata": {
        "id": "view-in-github",
        "colab_type": "text"
      },
      "source": [
        "<a href=\"https://colab.research.google.com/github/blufzzz/Introspective-Neural-Networks/blob/master/Introspective_CNN.ipynb\" target=\"_parent\"><img src=\"https://colab.research.google.com/assets/colab-badge.svg\" alt=\"Open In Colab\"/></a>"
      ]
    },
    {
      "metadata": {
        "id": "Gxzx0pAycds2",
        "colab_type": "code",
        "colab": {}
      },
      "cell_type": "code",
      "source": [
        "import torch\n",
        "import torchvision\n",
        "from torch import nn\n",
        "import torchvision\n",
        "from torchvision.models import resnet18\n"
      ],
      "execution_count": 0,
      "outputs": []
    },
    {
      "metadata": {
        "id": "pAi85saGd7I_",
        "colab_type": "code",
        "outputId": "7cd05a94-5efb-48cc-e037-fb813a78bab2",
        "colab": {
          "base_uri": "https://localhost:8080/",
          "height": 68
        }
      },
      "cell_type": "code",
      "source": [
        "model = resnet18(pretrained = True)\n",
        "X = torch.randn(1,3,256,256)\n",
        "model.forward(X).shape"
      ],
      "execution_count": 4,
      "outputs": [
        {
          "output_type": "stream",
          "text": [
            "Downloading: \"https://download.pytorch.org/models/resnet18-5c106cde.pth\" to /root/.torch/models/resnet18-5c106cde.pth\n",
            "46827520it [00:00, 76423530.09it/s]\n"
          ],
          "name": "stderr"
        },
        {
          "output_type": "execute_result",
          "data": {
            "text/plain": [
              "torch.Size([1, 1000])"
            ]
          },
          "metadata": {
            "tags": []
          },
          "execution_count": 4
        }
      ]
    },
    {
      "metadata": {
        "id": "el8YljnNddcC",
        "colab_type": "code",
        "colab": {}
      },
      "cell_type": "code",
      "source": [
        "class ICNN(nn.Module):\n",
        "  \n",
        "  def __init__(self, cnn_model, n_classes = False):\n",
        "      super(ICNN, self).__init__()\n",
        "      \n",
        "      self.conv_features = [] # store conv_features for all passes\n",
        "      self.model = cnn_model\n",
        "      self.n_classes = n_classes\n",
        "      self.sigmoid = nn.Sigmoid()\n",
        "\n",
        "      self.model.fc = nn.Linear(in_features=512, out_features=1, bias=True)\n",
        "      \n",
        "  def forward(self, input, sigmoid = False):\n",
        "      \n",
        "      hook = lambda module, input, output: self.conv_features.append(output)\n",
        "      self.model.avgpool.register_forward_hook(hook)\n",
        "      output = self.model.forward(input)\n",
        "      \n",
        "#       # OVR classification\n",
        "#       if n_classes:\n",
        "#           # we took conv_features from the last forward pass\n",
        "#           output = [fc(self.conv_features[-1]) for fc in self.fc_layers]\n",
        "      \n",
        "      if sigmoid:\n",
        "          return  self.sigmoid(output)\n",
        "      \n",
        "      return output\n"
      ],
      "execution_count": 0,
      "outputs": []
    },
    {
      "metadata": {
        "id": "CsKPUZjemAKp",
        "colab_type": "code",
        "outputId": "f415be3e-6162-44af-9373-6491b95184bd",
        "colab": {
          "base_uri": "https://localhost:8080/",
          "height": 34
        }
      },
      "cell_type": "code",
      "source": [
        "X = torch.randn(2,3,256,256)\n",
        "icnn_model = ICNN(model)\n",
        "print(icnn_model.forward(X, sigmoid=True).shape)"
      ],
      "execution_count": 7,
      "outputs": [
        {
          "output_type": "stream",
          "text": [
            "torch.Size([2, 1])\n"
          ],
          "name": "stdout"
        }
      ]
    },
    {
      "metadata": {
        "id": "yXdwKFsuiRn2",
        "colab_type": "code",
        "colab": {}
      },
      "cell_type": "code",
      "source": [
        "batch_size = 16\n",
        "n=100\n",
        "X = torch.randn(100, 3, 256, 256)\n",
        "y = torch.LongTensor(n).random_(2)*2-1\n",
        "X_1 = X[y==1]\n",
        "X_2 = X[y==-1]"
      ],
      "execution_count": 0,
      "outputs": []
    },
    {
      "metadata": {
        "id": "zPtG5e3vjc1Z",
        "colab_type": "code",
        "colab": {}
      },
      "cell_type": "code",
      "source": [
        "batch_1 = X_1[torch.LongTensor(batch_size).random_(len(X_1))]\n",
        "batch_2 = X_2[torch.LongTensor(batch_size).random_(len(X_2))]\n",
        "alphas = torch.FloatTensor(batch_size).uniform_(0,1)\n",
        "batch_hat = torch.zeros_like(batch_1,requires_grad=True)\n",
        "for i in range(batch_size):\n",
        "  batch_hat[i]=batch_1[i]*alphas[i]+batch_2[i]*(1-alphas[i])"
      ],
      "execution_count": 0,
      "outputs": []
    },
    {
      "metadata": {
        "id": "UpwFG0RRkQ-1",
        "colab_type": "code",
        "colab": {}
      },
      "cell_type": "code",
      "source": [
        "icnn_model=ICNN(model)\n",
        "f_1 = icnn_model.forward(batch_1, sigmoid=False)\n",
        "f_2 = icnn_model.forward(batch_2, sigmoid=False)\n",
        "f_hat = icnn_model.forward(batch_hat, sigmoid=False)"
      ],
      "execution_count": 0,
      "outputs": []
    },
    {
      "metadata": {
        "id": "Fk9VsLc8i9RZ",
        "colab_type": "code",
        "colab": {}
      },
      "cell_type": "code",
      "source": [
        "grads_hat = torch.zeros_like(batch_hat)\n",
        "for i in range(batch_size):\n",
        "  grads_hat[i]=torch.autograd.grad(f_hat[i],batch_hat,retain_graph=True)[0][i]"
      ],
      "execution_count": 0,
      "outputs": []
    },
    {
      "metadata": {
        "id": "CV0s7LWvlI1X",
        "colab_type": "code",
        "colab": {}
      },
      "cell_type": "code",
      "source": [
        "loss = 0\n",
        "for i in range(batch_size):\n",
        "  loss+=f_2[i]-f_1[i]+torch.norm(grads_hat[i],p=2)\n",
        "\n",
        "loss/=batch_size"
      ],
      "execution_count": 0,
      "outputs": []
    },
    {
      "metadata": {
        "id": "1MvzHjohk4qB",
        "colab_type": "code",
        "colab": {}
      },
      "cell_type": "code",
      "source": [
        "loss.backward()"
      ],
      "execution_count": 0,
      "outputs": []
    },
    {
      "metadata": {
        "id": "KAl4hLEylghF",
        "colab_type": "code",
        "colab": {}
      },
      "cell_type": "code",
      "source": [
        ""
      ],
      "execution_count": 0,
      "outputs": []
    }
  ]
}