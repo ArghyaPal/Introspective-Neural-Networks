{
 "cells": [
  {
   "cell_type": "markdown",
   "metadata": {
    "colab_type": "text",
    "id": "view-in-github"
   },
   "source": [
    "<a href=\"https://colab.research.google.com/github/blufzzz/Introspective-Neural-Networks/blob/master/Introspective_CNN.ipynb\" target=\"_parent\"><img src=\"https://colab.research.google.com/assets/colab-badge.svg\" alt=\"Open In Colab\"/></a>"
   ]
  },
  {
   "cell_type": "code",
   "execution_count": 1,
   "metadata": {
    "colab": {},
    "colab_type": "code",
    "id": "Gxzx0pAycds2"
   },
   "outputs": [],
   "source": [
    "import torch\n",
    "import torchvision\n",
    "from torch import nn\n",
    "import torchvision\n",
    "from torchvision.models import resnet18\n",
    "\n",
    "import matplotlib.pyplot as plt\n",
    "%matplotlib inline"
   ]
  },
  {
   "cell_type": "code",
   "execution_count": 2,
   "metadata": {
    "colab": {
     "base_uri": "https://localhost:8080/",
     "height": 34
    },
    "colab_type": "code",
    "id": "pAi85saGd7I_",
    "outputId": "69daad2b-dd5e-4285-e314-c674d6dbbf40"
   },
   "outputs": [
    {
     "data": {
      "text/plain": [
       "torch.Size([1, 1000])"
      ]
     },
     "execution_count": 2,
     "metadata": {},
     "output_type": "execute_result"
    }
   ],
   "source": [
    "model = resnet18(pretrained = True)\n",
    "X = torch.randn(1,3,256,256)\n",
    "model.forward(X).shape"
   ]
  },
  {
   "cell_type": "markdown",
   "metadata": {
    "colab_type": "text",
    "id": "drfFwwmgHMTV"
   },
   "source": [
    "# INN Model"
   ]
  },
  {
   "cell_type": "code",
   "execution_count": 3,
   "metadata": {
    "colab": {},
    "colab_type": "code",
    "id": "oiXVB8_RHCZI"
   },
   "outputs": [],
   "source": [
    "class Synthesis():\n",
    "    def __init__(self, init_std=0.3, noise_grad_std=None):\n",
    "        self.init_std = init_std;\n",
    "        self.noise_grad_std = noise_grad_std;\n",
    "        \n",
    "    def sample(self, module, num_iter=10, learning_rate=1e-2):\n",
    "        assert isinstance(module.X, torch.nn.Parameter), 'Expected X to be an instance of torch.nn.Parameter';\n",
    "        \n",
    "        # we do not want to create a graph and do backprop on net parameters, since we need only gradient of X\n",
    "        for name, param in module.named_parameters():\n",
    "            if name != 'X':\n",
    "                param.requires_grad = False;\n",
    "            else:\n",
    "                param.requires_grad = True;\n",
    "        \n",
    "        module.X.data = module.X.data.normal_(mean=0, std=self.init_std);\n",
    "        opt = torch.optim.SGD([module.X], lr=learning_rate);\n",
    "        \n",
    "        for i in range(num_iter):\n",
    "            opt.zero_grad();\n",
    "            classes = -module.to_synth();\n",
    "            for j in range(classes.shape[0]):\n",
    "                classes[j, ...].backward(retain_graph=True);\n",
    "                \n",
    "            if self.noise_grad_std is not None:\n",
    "                module.X.data += torch.empty_like(module.X.data).normal_(mean=0, std=self.noise_grad_std);\n",
    "            \n",
    "            opt.step()\n",
    "                \n",
    "        return module.X.data;"
   ]
  },
  {
   "cell_type": "code",
   "execution_count": 7,
   "metadata": {
    "colab": {},
    "colab_type": "code",
    "id": "el8YljnNddcC"
   },
   "outputs": [],
   "source": [
    "class ICNN(nn.Module):\n",
    "  \n",
    "    def __init__(self, cnn_model, size, std=0.3, n_classes = False):\n",
    "        super(ICNN, self).__init__()\n",
    "\n",
    "        self.conv_features = [] # store conv_features for all passes\n",
    "        self.model = cnn_model\n",
    "        self.n_classes = n_classes\n",
    "        self.sigmoid = nn.Sigmoid()\n",
    "        self.model.fc = nn.Linear(in_features=512, out_features=1, bias=True)\n",
    "        self.X = torch.nn.Parameter(torch.empty(size).normal_(mean=0, std=std));\n",
    "        self.X.requires_grad = False;\n",
    "\n",
    "    def forward(self, input, sigmoid = False):\n",
    "\n",
    "        hook = lambda module, input, output: self.conv_features.append(output)\n",
    "        self.model.avgpool.register_forward_hook(hook)\n",
    "        output = self.model.forward(input)\n",
    "\n",
    "        return self.sigmoid(output)\n",
    "\n",
    "    def to_synth(self):\n",
    "\n",
    "        hook = lambda module, input, output: self.conv_features.append(output)\n",
    "        self.model.avgpool.register_forward_hook(hook)\n",
    "\n",
    "        return self.model.forward(self.X)"
   ]
  },
  {
   "cell_type": "code",
   "execution_count": 40,
   "metadata": {
    "colab": {},
    "colab_type": "code",
    "id": "CsKPUZjemAKp"
   },
   "outputs": [],
   "source": [
    "X = torch.randn(2,3,28,28)\n",
    "icnn_model = ICNN(model, X.size())\n",
    "s = Synthesis(init_std=0.3);\n",
    "result = s.sample(icnn_model, num_iter=100, learning_rate=1e-1)"
   ]
  },
  {
   "cell_type": "code",
   "execution_count": 10,
   "metadata": {
    "colab": {
     "base_uri": "https://localhost:8080/",
     "height": 34
    },
    "colab_type": "code",
    "id": "XWcui3EvLxFI",
    "outputId": "c8727c7e-009d-477d-c5d0-c58327b5a59f"
   },
   "outputs": [
    {
     "data": {
      "text/plain": [
       "torch.Size([2, 3, 28, 28])"
      ]
     },
     "execution_count": 10,
     "metadata": {},
     "output_type": "execute_result"
    }
   ],
   "source": [
    "result.shape"
   ]
  },
  {
   "cell_type": "code",
   "execution_count": 19,
   "metadata": {},
   "outputs": [
    {
     "data": {
      "text/plain": [
       "<matplotlib.image.AxesImage at 0x13dd00b38>"
      ]
     },
     "execution_count": 19,
     "metadata": {},
     "output_type": "execute_result"
    },
    {
     "data": {
      "image/png": "[encoded data removed]",
      "text/plain": [
       "<Figure size 432x288 with 1 Axes>"
      ]
     },
     "metadata": {
      "needs_background": "light"
     },
     "output_type": "display_data"
    }
   ],
   "source": [
    "plt.imshow(result[0,0,:,:])"
   ]
  },
  {
   "cell_type": "markdown",
   "metadata": {
    "colab_type": "text",
    "id": "A7buLt5_HIm5"
   },
   "source": [
    "# Wasserstein loss"
   ]
  },
  {
   "cell_type": "code",
   "execution_count": 35,
   "metadata": {
    "colab": {},
    "colab_type": "code",
    "id": "yXdwKFsuiRn2"
   },
   "outputs": [],
   "source": [
    "batch_size = 16\n",
    "n=5\n",
    "X = torch.randn(5, 3, 28, 28)\n",
    "y = torch.FloatTensor(n).random_(2)*2-1\n",
    "X_1 = X[y==1]\n",
    "X_2 = X[y==-1]"
   ]
  },
  {
   "cell_type": "code",
   "execution_count": 36,
   "metadata": {
    "colab": {},
    "colab_type": "code",
    "id": "zPtG5e3vjc1Z"
   },
   "outputs": [],
   "source": [
    "batch_1 = X_1[torch.LongTensor(batch_size).random_(len(X_1))]\n",
    "batch_2 = X_2[torch.LongTensor(batch_size).random_(len(X_2))]\n",
    "alphas = torch.FloatTensor(batch_size).uniform_(0,1)\n",
    "batch_hat = torch.zeros_like(batch_1)\n",
    "for i in range(batch_size):\n",
    "    batch_hat.data[i]=batch_1[i]*alphas[i]+batch_2[i]*(1-alphas[i])\n",
    "\n",
    "batch_hat.requires_grad=True"
   ]
  },
  {
   "cell_type": "code",
   "execution_count": 37,
   "metadata": {},
   "outputs": [
    {
     "data": {
      "text/plain": [
       "torch.Size([16, 3, 28, 28])"
      ]
     },
     "execution_count": 37,
     "metadata": {},
     "output_type": "execute_result"
    }
   ],
   "source": [
    "batch_1.shape"
   ]
  },
  {
   "cell_type": "code",
   "execution_count": 38,
   "metadata": {
    "colab": {},
    "colab_type": "code",
    "id": "UpwFG0RRkQ-1"
   },
   "outputs": [],
   "source": [
    "icnn_model=ICNN(model, 28)\n",
    "f_1 = icnn_model.forward(batch_1, sigmoid=False)\n",
    "f_2 = icnn_model.forward(batch_2, sigmoid=False)\n",
    "f_hat = icnn_model.forward(batch_hat, sigmoid=False)"
   ]
  },
  {
   "cell_type": "code",
   "execution_count": 39,
   "metadata": {
    "colab": {},
    "colab_type": "code",
    "id": "Fk9VsLc8i9RZ"
   },
   "outputs": [],
   "source": [
    "grads_hat = []\n",
    "for i in range(batch_size):\n",
    "    grads_hat.append(torch.autograd.grad(f_hat[i],batch_hat, retain_graph=True, create_graph=True)[0][i])"
   ]
  },
  {
   "cell_type": "code",
   "execution_count": 40,
   "metadata": {
    "colab": {},
    "colab_type": "code",
    "id": "CV0s7LWvlI1X"
   },
   "outputs": [],
   "source": [
    "loss = 0\n",
    "for i in range(batch_size):\n",
    "    loss+=f_2[i]-f_1[i]+torch.norm(grads_hat[i], p=2)\n",
    "\n",
    "loss/=batch_size"
   ]
  },
  {
   "cell_type": "code",
   "execution_count": 44,
   "metadata": {
    "colab": {},
    "colab_type": "code",
    "id": "1MvzHjohk4qB"
   },
   "outputs": [],
   "source": [
    "loss.backward()"
   ]
  },
  {
   "cell_type": "code",
   "execution_count": 47,
   "metadata": {},
   "outputs": [
    {
     "data": {
      "text/plain": [
       "tensor([[[[-2.1712e-02, -1.7547e-02, -1.8942e-02,  ..., -1.5337e-04,\n",
       "            3.9389e-03,  1.7153e-02],\n",
       "          [-1.6219e-02, -1.3494e-02, -9.2888e-03,  ...,  3.8582e-03,\n",
       "            1.6926e-02,  2.1994e-02],\n",
       "          [-1.2152e-02, -3.5706e-02, -1.5613e-02,  ...,  1.2475e-03,\n",
       "            2.2685e-02,  1.9318e-02],\n",
       "          ...,\n",
       "          [-2.2066e-03, -1.7533e-03, -9.1930e-03,  ..., -8.3438e-03,\n",
       "            6.2283e-03,  7.4102e-03],\n",
       "          [ 8.4026e-04,  5.9306e-03,  7.7647e-04,  ...,  4.0104e-04,\n",
       "            1.0580e-04, -1.2138e-04],\n",
       "          [-1.0150e-03,  2.6919e-03, -2.6827e-03,  ..., -3.6125e-03,\n",
       "           -2.7064e-03, -7.5866e-04]],\n",
       "\n",
       "         [[-1.4734e-02, -5.7910e-03, -8.7223e-03,  ..., -2.1010e-03,\n",
       "            6.8506e-03,  2.1643e-02],\n",
       "          [-2.0200e-03,  5.4632e-03,  1.3889e-02,  ...,  3.8225e-04,\n",
       "            2.3421e-02,  2.9531e-02],\n",
       "          [ 1.5607e-03, -2.3448e-02,  7.0876e-03,  ..., -2.8234e-03,\n",
       "            2.9180e-02,  2.5814e-02],\n",
       "          ...,\n",
       "          [ 3.8115e-04, -2.3412e-03, -1.4738e-02,  ..., -7.8932e-03,\n",
       "            3.5851e-03,  6.1106e-03],\n",
       "          [ 2.7362e-03,  8.8147e-03,  1.4915e-03,  ..., -9.1325e-04,\n",
       "           -3.1935e-03, -3.0548e-03],\n",
       "          [ 4.6343e-05,  4.1187e-03, -2.6683e-03,  ..., -5.1055e-03,\n",
       "           -5.3931e-03, -2.7124e-03]],\n",
       "\n",
       "         [[-1.0688e-02, -6.1320e-03, -9.1063e-03,  ...,  7.4007e-03,\n",
       "            7.1642e-03,  1.2740e-02],\n",
       "          [-4.0454e-03,  1.7281e-03,  1.7399e-03,  ...,  9.1507e-03,\n",
       "            1.5226e-02,  1.5846e-02],\n",
       "          [-8.3435e-04, -1.7255e-02,  2.2785e-03,  ...,  1.4260e-03,\n",
       "            1.5105e-02,  1.0643e-02],\n",
       "          ...,\n",
       "          [-4.3919e-03, -9.6542e-03, -2.2043e-02,  ...,  4.9539e-03,\n",
       "            4.0888e-03,  3.7680e-03],\n",
       "          [-2.6347e-03, -2.1039e-04, -5.5781e-03,  ...,  8.0838e-04,\n",
       "           -4.1864e-04, -9.4195e-04],\n",
       "          [-2.7287e-03, -1.2854e-03, -6.7481e-03,  ..., -2.4233e-03,\n",
       "           -2.9827e-03, -1.5921e-03]]],\n",
       "\n",
       "\n",
       "        [[[ 3.7392e-02,  5.6240e-02,  2.5295e-02,  ...,  5.1618e-03,\n",
       "           -1.5491e-02, -2.2560e-02],\n",
       "          [ 2.5675e-02, -1.9718e-02, -3.3148e-02,  ...,  1.3946e-02,\n",
       "           -2.2484e-02, -2.2530e-02],\n",
       "          [-2.1391e-02, -1.0659e-01, -1.9541e-03,  ...,  1.8646e-02,\n",
       "           -4.0879e-02, -3.9163e-02],\n",
       "          ...,\n",
       "          [ 3.0431e-03, -1.5613e-02,  3.5064e-03,  ...,  4.5787e-03,\n",
       "            4.4158e-03, -1.3556e-02],\n",
       "          [ 3.0567e-05, -1.1891e-02,  8.8192e-03,  ..., -1.6295e-03,\n",
       "            3.8503e-03, -1.3172e-03],\n",
       "          [ 6.2133e-03, -1.8628e-03, -1.0780e-03,  ..., -7.3579e-03,\n",
       "           -6.8141e-03,  1.1835e-03]],\n",
       "\n",
       "         [[ 5.0313e-02,  6.0268e-02,  5.6711e-03,  ..., -3.4488e-03,\n",
       "           -6.2449e-03, -3.3957e-03],\n",
       "          [ 1.2939e-02, -5.4418e-02, -7.7699e-02,  ...,  2.8662e-02,\n",
       "           -5.0656e-03,  4.5234e-03],\n",
       "          [-6.3895e-02, -1.5920e-01, -3.5533e-02,  ...,  4.5214e-02,\n",
       "           -1.6430e-02, -3.5507e-03],\n",
       "          ...,\n",
       "          [ 1.1569e-02, -7.6756e-03,  1.1551e-02,  ...,  7.7620e-03,\n",
       "            2.1517e-02, -3.4865e-03],\n",
       "          [ 1.2847e-03, -1.0226e-02,  1.4354e-02,  ...,  7.9341e-03,\n",
       "            2.6310e-02,  1.7865e-02],\n",
       "          [ 9.0385e-03, -3.9885e-04, -2.2064e-03,  ...,  2.9583e-03,\n",
       "            1.5158e-02,  2.3201e-02]],\n",
       "\n",
       "         [[ 2.0678e-02,  3.5606e-02,  1.0614e-02,  ..., -1.3023e-02,\n",
       "            5.7384e-03,  6.4639e-03],\n",
       "          [ 2.3424e-02, -2.8236e-03, -2.1848e-02,  ...,  1.5001e-02,\n",
       "            1.8236e-02,  2.0814e-02],\n",
       "          [-6.8195e-03, -6.4745e-02,  9.2352e-03,  ...,  5.3128e-02,\n",
       "            1.9156e-02,  2.5719e-02],\n",
       "          ...,\n",
       "          [ 2.1089e-02,  1.1946e-02,  2.6590e-02,  ...,  1.5646e-03,\n",
       "            1.2572e-02, -9.2954e-04],\n",
       "          [ 1.3174e-02,  2.2954e-03,  1.3775e-02,  ...,  2.0965e-03,\n",
       "            1.4255e-02,  8.0309e-03],\n",
       "          [ 1.6085e-02,  1.0197e-02,  4.7735e-03,  ...,  1.1015e-04,\n",
       "            8.2182e-03,  1.1379e-02]]],\n",
       "\n",
       "\n",
       "        [[[ 6.3632e-03,  1.1420e-02,  3.3624e-03,  ...,  1.9850e-02,\n",
       "            1.2292e-02,  1.0333e-02],\n",
       "          [ 1.4945e-03, -1.4135e-02, -1.8637e-02,  ...,  2.9903e-02,\n",
       "            1.4523e-02,  6.6330e-03],\n",
       "          [-2.8626e-02, -4.7814e-02,  7.9932e-03,  ...,  1.3225e-02,\n",
       "            1.9842e-02,  7.8546e-03],\n",
       "          ...,\n",
       "          [-1.8331e-02, -3.9660e-03,  1.2158e-02,  ..., -5.6920e-03,\n",
       "           -1.0421e-02, -1.6091e-03],\n",
       "          [-2.0293e-02, -2.0987e-02,  5.0206e-03,  ..., -8.5584e-04,\n",
       "           -4.7121e-03, -8.3887e-04],\n",
       "          [-1.9577e-02, -3.0391e-02, -2.5134e-02,  ..., -1.0777e-03,\n",
       "           -5.0125e-03, -5.4992e-03]],\n",
       "\n",
       "         [[ 1.5467e-02,  1.3480e-02, -1.2984e-02,  ...,  1.8398e-02,\n",
       "            1.0009e-02,  7.5434e-03],\n",
       "          [ 2.8374e-02,  2.7391e-03, -1.5998e-02,  ...,  2.6684e-02,\n",
       "            8.5783e-03, -6.3224e-04],\n",
       "          [ 1.2526e-02,  2.2123e-04,  5.7639e-02,  ...,  3.7874e-03,\n",
       "            1.1661e-02,  7.0379e-04],\n",
       "          ...,\n",
       "          [-1.9180e-02,  4.8578e-03,  3.6715e-02,  ..., -8.6268e-03,\n",
       "           -1.1859e-02,  2.7368e-03],\n",
       "          [-2.3668e-02, -2.6974e-02, -2.3770e-03,  ..., -2.7759e-03,\n",
       "           -5.1174e-03,  2.6099e-03],\n",
       "          [-1.8619e-02, -3.3796e-02, -3.5195e-02,  ..., -6.4024e-03,\n",
       "           -8.0576e-03, -6.1941e-03]],\n",
       "\n",
       "         [[ 5.0716e-04, -5.2730e-03, -7.4668e-03,  ...,  5.0592e-03,\n",
       "            2.5480e-03,  3.5398e-03],\n",
       "          [ 1.2581e-02, -4.9259e-03, -6.5594e-03,  ...,  4.3701e-03,\n",
       "           -4.0280e-03, -3.8762e-03],\n",
       "          [ 9.7427e-03, -5.1143e-03,  3.4936e-02,  ..., -1.8540e-02,\n",
       "           -3.5344e-03, -4.7175e-03],\n",
       "          ...,\n",
       "          [-2.0514e-02, -1.6355e-02, -5.9148e-03,  ..., -8.0150e-03,\n",
       "           -3.1895e-03,  6.5835e-03],\n",
       "          [-1.3370e-02, -1.9355e-02, -7.1904e-03,  ..., -1.6795e-03,\n",
       "           -2.7599e-04,  4.1839e-03],\n",
       "          [-4.9615e-03, -1.4811e-02, -1.8980e-02,  ..., -2.6691e-03,\n",
       "           -2.7908e-03, -2.2852e-03]]],\n",
       "\n",
       "\n",
       "        ...,\n",
       "\n",
       "\n",
       "        [[[-3.4773e-03, -1.2239e-02, -1.2224e-02,  ...,  3.1606e-02,\n",
       "            9.7297e-03,  1.2482e-02],\n",
       "          [-5.0939e-02, -1.2343e-02,  2.3407e-02,  ...,  2.0159e-02,\n",
       "            8.2882e-03,  1.3671e-02],\n",
       "          [-3.5449e-02, -2.6158e-02,  2.2185e-02,  ..., -1.4457e-03,\n",
       "           -9.2469e-04,  2.4575e-03],\n",
       "          ...,\n",
       "          [-6.5478e-03,  1.2710e-02,  1.6092e-02,  ...,  3.6160e-03,\n",
       "            1.1201e-02, -2.1850e-03],\n",
       "          [-1.1118e-03,  1.1525e-02,  1.3304e-02,  ..., -3.6128e-03,\n",
       "           -1.8125e-03, -5.0030e-03],\n",
       "          [-3.6847e-03,  3.7927e-03,  8.6649e-03,  ..., -3.1148e-03,\n",
       "           -4.9727e-03,  9.7378e-05]],\n",
       "\n",
       "         [[-2.7234e-03, -1.2203e-02, -9.6453e-03,  ...,  3.0117e-02,\n",
       "            5.3243e-03,  2.2204e-03],\n",
       "          [-5.5659e-02, -1.4971e-02,  2.3222e-02,  ...,  1.9825e-02,\n",
       "            7.8481e-03,  8.4256e-03],\n",
       "          [-2.5209e-02, -2.6157e-02,  1.2899e-02,  ..., -1.2202e-02,\n",
       "            5.0767e-04,  5.9804e-03],\n",
       "          ...,\n",
       "          [-6.3848e-03,  2.2408e-02,  3.3350e-02,  ...,  8.0914e-03,\n",
       "            1.5397e-02, -8.9297e-04],\n",
       "          [ 4.8006e-03,  2.5850e-02,  3.1735e-02,  ..., -9.5206e-04,\n",
       "           -1.8564e-04, -2.2688e-03],\n",
       "          [ 4.8982e-04,  1.2921e-02,  2.0757e-02,  ..., -4.1240e-04,\n",
       "           -3.4905e-03,  4.4866e-03]],\n",
       "\n",
       "         [[ 9.4928e-04, -3.9386e-03, -9.6796e-03,  ...,  1.9170e-02,\n",
       "            2.1022e-03, -1.4743e-03],\n",
       "          [-3.0795e-02, -6.3055e-03,  4.7620e-03,  ...,  2.5118e-02,\n",
       "            1.0598e-02,  5.2330e-03],\n",
       "          [-1.5088e-02, -2.5494e-02, -7.8993e-03,  ...,  4.4919e-03,\n",
       "            4.7038e-03,  4.8803e-04],\n",
       "          ...,\n",
       "          [-1.5295e-02,  6.2299e-06,  1.1447e-02,  ...,  5.1596e-03,\n",
       "            7.4481e-03, -3.2057e-03],\n",
       "          [-4.5945e-03,  3.5801e-03,  7.6827e-03,  ..., -7.9978e-04,\n",
       "            5.5852e-04, -1.4126e-03],\n",
       "          [-4.4295e-03, -8.0683e-04,  3.1735e-03,  ...,  4.9842e-04,\n",
       "           -9.4110e-04,  3.7069e-03]]],\n",
       "\n",
       "\n",
       "        [[[-9.5011e-03, -3.0186e-03,  8.0966e-03,  ..., -4.0485e-03,\n",
       "           -1.5832e-02, -1.9988e-02],\n",
       "          [ 1.0313e-02,  7.7773e-03,  9.8043e-03,  ..., -4.3262e-03,\n",
       "           -2.0798e-02, -2.7302e-02],\n",
       "          [ 1.4220e-02,  2.0052e-02,  1.4573e-02,  ...,  2.9091e-03,\n",
       "           -8.8770e-03, -2.2418e-02],\n",
       "          ...,\n",
       "          [-7.8694e-03, -9.5905e-03, -2.6405e-03,  ..., -5.4861e-04,\n",
       "            6.0159e-03, -1.6190e-04],\n",
       "          [-4.8744e-03, -1.3536e-04,  7.2803e-03,  ...,  9.1588e-03,\n",
       "           -9.4146e-04, -3.9583e-03],\n",
       "          [-2.9250e-03,  2.5240e-03,  1.0713e-02,  ...,  5.0772e-03,\n",
       "            5.5000e-05,  3.1999e-03]],\n",
       "\n",
       "         [[-1.7821e-02, -7.5427e-03,  7.7646e-03,  ..., -6.6932e-03,\n",
       "           -1.7473e-02, -2.3200e-02],\n",
       "          [ 1.3728e-02,  1.3160e-02,  1.3986e-02,  ..., -4.0047e-03,\n",
       "           -2.3039e-02, -3.4439e-02],\n",
       "          [ 2.8063e-02,  3.7060e-02,  2.5760e-02,  ...,  6.7009e-03,\n",
       "           -9.7813e-03, -3.0054e-02],\n",
       "          ...,\n",
       "          [-9.4841e-03, -8.9985e-03,  1.0032e-03,  ..., -1.5007e-03,\n",
       "            6.7956e-03, -1.1606e-03],\n",
       "          [-2.6805e-03,  5.9411e-03,  1.5378e-02,  ...,  7.2476e-03,\n",
       "           -1.8992e-03, -5.6941e-03],\n",
       "          [-2.7172e-04,  9.0187e-03,  1.9297e-02,  ...,  3.5210e-03,\n",
       "            2.9894e-04,  4.4485e-03]],\n",
       "\n",
       "         [[-1.1805e-02, -7.1922e-03,  3.7138e-03,  ..., -1.8026e-03,\n",
       "           -7.2468e-03, -9.1928e-03],\n",
       "          [ 1.2411e-03, -2.4370e-03,  2.9151e-03,  ..., -4.1457e-03,\n",
       "           -1.4781e-02, -2.0268e-02],\n",
       "          [ 8.8571e-03,  1.2703e-02,  9.2943e-03,  ..., -3.5039e-03,\n",
       "           -7.6882e-03, -1.9189e-02],\n",
       "          ...,\n",
       "          [-4.6688e-03, -7.8077e-03, -7.8114e-03,  ..., -1.6995e-04,\n",
       "            3.7741e-03, -1.2797e-03],\n",
       "          [-3.9968e-03, -3.5884e-03, -2.2534e-03,  ...,  4.0097e-03,\n",
       "           -2.3554e-03, -3.9099e-03],\n",
       "          [-4.1771e-03, -3.9387e-03, -2.1921e-03,  ...,  2.3614e-05,\n",
       "           -6.1156e-04,  2.8128e-03]]],\n",
       "\n",
       "\n",
       "        [[[-7.2483e-03,  1.7942e-02,  2.2529e-02,  ..., -3.0531e-03,\n",
       "           -6.8090e-03, -3.4090e-03],\n",
       "          [ 2.5393e-02,  3.5580e-02,  9.2014e-03,  ...,  3.9062e-03,\n",
       "           -1.0346e-06, -4.3595e-03],\n",
       "          [ 3.3050e-02,  2.4200e-02, -5.2305e-03,  ...,  5.6992e-03,\n",
       "            1.4225e-03, -1.0309e-02],\n",
       "          ...,\n",
       "          [ 4.7020e-03, -2.6709e-03,  1.9595e-03,  ..., -1.1376e-03,\n",
       "            2.5156e-03,  8.8275e-04],\n",
       "          [-7.0442e-03, -5.5453e-03, -3.9241e-03,  ..., -2.3576e-03,\n",
       "            1.7513e-03,  1.3158e-03],\n",
       "          [-7.0246e-03, -3.6697e-03, -3.2665e-05,  ..., -2.4655e-03,\n",
       "            3.1503e-03, -4.9255e-04]],\n",
       "\n",
       "         [[-5.4244e-03,  2.5816e-02,  2.4919e-02,  ..., -1.4527e-03,\n",
       "           -5.5521e-04,  4.0248e-03],\n",
       "          [ 3.6126e-02,  4.9027e-02,  4.9974e-03,  ...,  6.1670e-03,\n",
       "            6.2207e-03,  7.7747e-04],\n",
       "          [ 4.1507e-02,  2.6542e-02, -2.4306e-02,  ...,  9.0772e-03,\n",
       "            7.3176e-03, -7.8418e-03],\n",
       "          ...,\n",
       "          [ 4.5740e-03, -3.8767e-03,  2.7816e-03,  ...,  6.1067e-03,\n",
       "            5.5440e-03,  4.1080e-03],\n",
       "          [-6.1608e-03, -4.5069e-03, -4.1635e-03,  ..., -1.5928e-03,\n",
       "            2.2751e-03,  1.9116e-03],\n",
       "          [-5.7536e-03, -1.7392e-05,  2.3257e-03,  ..., -3.3604e-03,\n",
       "            4.0144e-03, -4.0572e-04]],\n",
       "\n",
       "         [[-3.2834e-03,  1.0975e-02,  1.3629e-02,  ...,  4.0965e-03,\n",
       "            4.8899e-03,  6.4231e-03],\n",
       "          [ 1.6125e-02,  2.5828e-02,  7.0727e-03,  ...,  8.5792e-03,\n",
       "            9.2533e-03,  5.1060e-03],\n",
       "          [ 2.5504e-02,  2.8234e-02,  9.6332e-03,  ...,  1.1432e-02,\n",
       "            1.0010e-02,  1.1094e-03],\n",
       "          ...,\n",
       "          [ 1.3733e-03, -4.4578e-03, -2.9362e-03,  ...,  3.3722e-03,\n",
       "            5.8498e-04, -4.6735e-05],\n",
       "          [-3.9069e-03, -4.3257e-03, -9.3319e-03,  ..., -3.7833e-04,\n",
       "            1.4467e-03,  8.5963e-04],\n",
       "          [-2.4473e-03, -1.5725e-03, -4.0552e-03,  ..., -1.1371e-03,\n",
       "            3.3728e-03, -2.8824e-04]]]])"
      ]
     },
     "execution_count": 47,
     "metadata": {},
     "output_type": "execute_result"
    }
   ],
   "source": [
    "batch_hat.grad"
   ]
  },
  {
   "cell_type": "code",
   "execution_count": 45,
   "metadata": {},
   "outputs": [
    {
     "data": {
      "text/plain": [
       "tensor([[[-0.0014,  0.0038, -0.0285,  ...,  0.0055,  0.0092,  0.0409],\n",
       "         [ 0.0825, -0.0396, -0.0958,  ...,  0.0291,  0.0400,  0.0566],\n",
       "         [ 0.0707, -0.0153,  0.0150,  ...,  0.0073,  0.0498,  0.0488],\n",
       "         ...,\n",
       "         [ 0.0162,  0.0507, -0.0272,  ...,  0.0118, -0.0101, -0.0255],\n",
       "         [ 0.0182,  0.0239, -0.0291,  ..., -0.0006,  0.0166,  0.0101],\n",
       "         [ 0.0022,  0.0027, -0.0081,  ..., -0.0098,  0.0071,  0.0187]],\n",
       "\n",
       "        [[ 0.0016, -0.0060, -0.0679,  ...,  0.0201,  0.0299,  0.0595],\n",
       "         [ 0.1076, -0.0416, -0.1257,  ...,  0.0441,  0.0709,  0.0869],\n",
       "         [ 0.0734, -0.0142,  0.0231,  ...,  0.0064,  0.0756,  0.0806],\n",
       "         ...,\n",
       "         [ 0.0304,  0.0689, -0.0186,  ...,  0.0243,  0.0465,  0.0254],\n",
       "         [ 0.0262,  0.0270, -0.0247,  ...,  0.0068,  0.0514,  0.0411],\n",
       "         [ 0.0069,  0.0028, -0.0002,  ..., -0.0166,  0.0259,  0.0377]],\n",
       "\n",
       "        [[ 0.0080,  0.0247, -0.0029,  ...,  0.0141,  0.0143,  0.0278],\n",
       "         [ 0.0872,  0.0229, -0.0207,  ...,  0.0324,  0.0343,  0.0411],\n",
       "         [ 0.0783,  0.0512,  0.0755,  ...,  0.0140,  0.0407,  0.0361],\n",
       "         ...,\n",
       "         [ 0.0055,  0.0332, -0.0086,  ...,  0.0120,  0.0230,  0.0088],\n",
       "         [ 0.0143,  0.0131, -0.0180,  ...,  0.0072,  0.0239,  0.0131],\n",
       "         [ 0.0033, -0.0010, -0.0080,  ...,  0.0011,  0.0141,  0.0177]]],\n",
       "       grad_fn=<SelectBackward>)"
      ]
     },
     "execution_count": 45,
     "metadata": {},
     "output_type": "execute_result"
    }
   ],
   "source": [
    "grads_hat[0]"
   ]
  },
  {
   "cell_type": "code",
   "execution_count": 46,
   "metadata": {},
   "outputs": [],
   "source": [
    "grads_hat[0].grad"
   ]
  },
  {
   "cell_type": "code",
   "execution_count": null,
   "metadata": {},
   "outputs": [],
   "source": []
  }
 ],
 "metadata": {
  "accelerator": "GPU",
  "colab": {
   "collapsed_sections": [],
   "include_colab_link": true,
   "name": "Introspective CNN.ipynb",
   "provenance": [],
   "version": "0.3.2"
  },
  "kernelspec": {
   "display_name": "Python 3",
   "language": "python",
   "name": "python3"
  },
  "language_info": {
   "codemirror_mode": {
    "name": "ipython",
    "version": 3
   },
   "file_extension": ".py",
   "mimetype": "text/x-python",
   "name": "python",
   "nbconvert_exporter": "python",
   "pygments_lexer": "ipython3",
   "version": "3.6.8"
  }
 },
 "nbformat": 4,
 "nbformat_minor": 1
}
