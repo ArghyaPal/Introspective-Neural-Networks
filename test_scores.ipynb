{
 "cells": [
  {
   "cell_type": "code",
   "execution_count": 1,
   "metadata": {},
   "outputs": [
    {
     "name": "stdout",
     "output_type": "stream",
     "text": [
      "CUDA Available:  True\n",
      "Using gpu with id 2\n"
     ]
    },
    {
     "name": "stderr",
     "output_type": "stream",
     "text": [
      "/home/koshelev/anaconda3/lib/python3.7/site-packages/tqdm/autonotebook/__init__.py:14: TqdmExperimentalWarning: Using `tqdm.autonotebook.tqdm` in notebook mode. Use `tqdm.tqdm` instead to force console mode (e.g. in jupyter console)\n",
      "  \" (e.g. in jupyter console)\", TqdmExperimentalWarning)\n"
     ]
    }
   ],
   "source": [
    "import torch\n",
    "from torch.cuda import set_device\n",
    "from datasets import get_data_loaders\n",
    "from classifier_arch import MnistResNet\n",
    "from train_functions import measure_scores\n",
    "import matplotlib.pyplot as plt\n",
    "%matplotlib inline\n",
    "\n",
    "gpu_id = 2;\n",
    "cuda_avail = torch.cuda.is_available();\n",
    "\n",
    "print(\"CUDA Available: \", cuda_avail);\n",
    "if cuda_avail:\n",
    "    print('Using gpu with id', gpu_id);\n",
    "    set_device(gpu_id);\n",
    "    device = torch.device(\"cuda:\" + str(gpu_id))\n",
    "else:\n",
    "    print('Using CPU');\n",
    "    device = torch.device(\"cpu\");"
   ]
  },
  {
   "cell_type": "code",
   "execution_count": 2,
   "metadata": {},
   "outputs": [],
   "source": [
    "_, val_loader, test_loader = get_data_loaders(100, 256, 256, train_size=50000);"
   ]
  },
  {
   "cell_type": "markdown",
   "metadata": {},
   "source": [
    "# Testing vanilla net"
   ]
  },
  {
   "cell_type": "code",
   "execution_count": 3,
   "metadata": {},
   "outputs": [],
   "source": [
    "# loading vanilla net and its weights\n",
    "model = MnistResNet();\n",
    "if cuda_avail:\n",
    "    model.cuda();\n",
    "    model.load_state_dict(torch.load('MNIST_ResNet_vanilla_best.pt', map_location=lambda storage, loc: storage.cuda(gpu_id)), strict=True);\n",
    "model.train(False);"
   ]
  },
  {
   "cell_type": "markdown",
   "metadata": {},
   "source": [
    "### Testing on test dataset"
   ]
  },
  {
   "cell_type": "code",
   "execution_count": 4,
   "metadata": {},
   "outputs": [
    {
     "name": "stdout",
     "output_type": "stream",
     "text": [
      "\t     precision: 0.9940\n",
      "\t        recall: 0.9944\n",
      "\t            F1: 0.9940\n",
      "\t      accuracy: 0.9942\n"
     ]
    }
   ],
   "source": [
    "measure_scores(model, test_loader, cuda_avail);"
   ]
  },
  {
   "cell_type": "markdown",
   "metadata": {},
   "source": [
    "### Testing on validation dataset"
   ]
  },
  {
   "cell_type": "code",
   "execution_count": 5,
   "metadata": {},
   "outputs": [
    {
     "name": "stdout",
     "output_type": "stream",
     "text": [
      "\t     precision: 0.9924\n",
      "\t        recall: 0.9923\n",
      "\t            F1: 0.9922\n",
      "\t      accuracy: 0.9923\n"
     ]
    }
   ],
   "source": [
    "measure_scores(model, val_loader, cuda_avail);"
   ]
  },
  {
   "cell_type": "markdown",
   "metadata": {},
   "source": [
    "# Testing INN"
   ]
  },
  {
   "cell_type": "code",
   "execution_count": 6,
   "metadata": {},
   "outputs": [],
   "source": [
    "# loading INN and its weights\n",
    "model = MnistResNet();\n",
    "if cuda_avail:\n",
    "    model.cuda();\n",
    "    model.load_state_dict(torch.load('MNIST_ResNet_INN_best.pt', map_location=lambda storage, loc: storage.cuda(gpu_id)), strict=True);\n",
    "model.train(False);"
   ]
  },
  {
   "cell_type": "markdown",
   "metadata": {},
   "source": [
    "### Testing on test dataset"
   ]
  },
  {
   "cell_type": "code",
   "execution_count": 7,
   "metadata": {},
   "outputs": [
    {
     "name": "stdout",
     "output_type": "stream",
     "text": [
      "\t     precision: 0.9947\n",
      "\t        recall: 0.9948\n",
      "\t            F1: 0.9946\n",
      "\t      accuracy: 0.9947\n"
     ]
    }
   ],
   "source": [
    "measure_scores(model, test_loader, cuda_avail);"
   ]
  },
  {
   "cell_type": "markdown",
   "metadata": {},
   "source": [
    "### Testing on validation dataset"
   ]
  },
  {
   "cell_type": "code",
   "execution_count": 8,
   "metadata": {},
   "outputs": [
    {
     "name": "stdout",
     "output_type": "stream",
     "text": [
      "\t     precision: 0.9934\n",
      "\t        recall: 0.9931\n",
      "\t            F1: 0.9931\n",
      "\t      accuracy: 0.9932\n"
     ]
    }
   ],
   "source": [
    "measure_scores(model, val_loader, cuda_avail);"
   ]
  }
 ],
 "metadata": {
  "kernelspec": {
   "display_name": "Python 3",
   "language": "python",
   "name": "python3"
  },
  "language_info": {
   "codemirror_mode": {
    "name": "ipython",
    "version": 3
   },
   "file_extension": ".py",
   "mimetype": "text/x-python",
   "name": "python",
   "nbconvert_exporter": "python",
   "pygments_lexer": "ipython3",
   "version": "3.7.1"
  }
 },
 "nbformat": 4,
 "nbformat_minor": 2
}
