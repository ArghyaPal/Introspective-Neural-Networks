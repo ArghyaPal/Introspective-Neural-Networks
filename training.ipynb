{
 "cells": [
  {
   "cell_type": "code",
   "execution_count": 1,
   "metadata": {},
   "outputs": [],
   "source": [
    "import matplotlib.pyplot as plt\n",
    "%matplotlib inline\n",
    "import torch"
   ]
  },
  {
   "cell_type": "code",
   "execution_count": 2,
   "metadata": {},
   "outputs": [
    {
     "name": "stderr",
     "output_type": "stream",
     "text": [
      "/home/koshelev/anaconda3/lib/python3.7/site-packages/tqdm/autonotebook/__init__.py:14: TqdmExperimentalWarning: Using `tqdm.autonotebook.tqdm` in notebook mode. Use `tqdm.tqdm` instead to force console mode (e.g. in jupyter console)\n",
      "  \" (e.g. in jupyter console)\", TqdmExperimentalWarning)\n"
     ]
    }
   ],
   "source": [
    "from torchvision.models.resnet import ResNet, BasicBlock\n",
    "from torchvision.datasets import MNIST\n",
    "from tqdm.autonotebook import tqdm\n",
    "from sklearn.metrics import precision_score, recall_score, f1_score, accuracy_score\n",
    "import inspect\n",
    "import time\n",
    "from torch import nn, optim\n",
    "import torch\n",
    "from torchvision.transforms import Compose, ToTensor, Normalize, Resize\n",
    "from torch.utils.data import DataLoader\n",
    "gpu_id = 2;\n",
    "from torch.cuda import set_device\n",
    "set_device(gpu_id)\n",
    "from tqdm import tnrange"
   ]
  },
  {
   "cell_type": "code",
   "execution_count": 39,
   "metadata": {},
   "outputs": [],
   "source": [
    "class Synthesis():\n",
    "    def __init__(self, init_std=0.3):\n",
    "        self.init_std = init_std;\n",
    "        \n",
    "    def sample(self, module, num_iter=10, learning_rate=1e-2, add_noise=True):\n",
    "        assert isinstance(module.X, torch.nn.Parameter), 'Expected X to be an instance of torch.nn.Parameter';\n",
    "        \n",
    "        model.train(False);\n",
    "        \n",
    "        # we do not want to create a graph and do backprop on net parameters, since we need only gradient of X\n",
    "        for name, param in module.named_parameters():\n",
    "            if name != 'X':\n",
    "                param.requires_grad = False;\n",
    "            else:\n",
    "                param.requires_grad = True;\n",
    "        \n",
    "        module.X.data = module.X.data.normal_(mean=0, std=self.init_std);\n",
    "        #module.X.data = module.X.data.fill_(0);\n",
    "        #opt = torch.optim.SGD([module.X], lr=learning_rate);\n",
    "        opt = torch.optim.Adam([module.X], lr=learning_rate, amsgrad=True);\n",
    "        \n",
    "        for i in range(num_iter):\n",
    "            opt.zero_grad();\n",
    "            classes = -module.to_synth();\n",
    "            for j in range(classes.shape[0]):\n",
    "                classes[j, j, ...].backward(retain_graph=True);\n",
    "                \n",
    "            if add_noise:\n",
    "                module.X.data += torch.empty_like(module.X.data).normal_(mean=0, std=(2*opt.param_groups[0]['lr'])**0.5);\n",
    "            \n",
    "            opt.step()\n",
    "        \n",
    "        model.train(True);\n",
    "        \n",
    "        for name, param in module.named_parameters():\n",
    "            if name != 'X':\n",
    "                param.requires_grad = True;\n",
    "            else:\n",
    "                param.requires_grad = False;\n",
    "        \n",
    "        return module.X.data;"
   ]
  },
  {
   "cell_type": "code",
   "execution_count": 138,
   "metadata": {},
   "outputs": [],
   "source": [
    "class MnistDataset(torch.utils.data.Dataset):\n",
    "    def __init__(self, root_dir='data/', training=True):\n",
    "        self.imgs = [];\n",
    "        self.labels = [];\n",
    "        self.fake = [];\n",
    "        \n",
    "        if training:\n",
    "            x, y = torch.load(root_dir + 'processed/training.pt');\n",
    "        else:\n",
    "            x, y = torch.load(root_dir + 'processed/test.pt');\n",
    "        for i in range(y.shape[0]):\n",
    "            self.imgs.append(x[i, ...].float()/255);\n",
    "            self.labels.append(y[i].long());\n",
    "            self.fake.append(torch.ByteTensor([0])[0]);\n",
    "    \n",
    "    def __len__(self):\n",
    "        return len(self.labels);\n",
    "\n",
    "    def __getitem__(self, idx):\n",
    "        \n",
    "        x = self.imgs[idx];\n",
    "        y = self.labels[idx];\n",
    "        fake = self.fake[idx];\n",
    "        \n",
    "        return x.unsqueeze(0), y.float().unsqueeze(0), fake;\n",
    "    \n",
    "    def add_artificial(self, X):\n",
    "        for i in range(X.shape[0]):\n",
    "            self.imgs.append(X[i, 0, ...].detach().cpu());\n",
    "            self.labels.append(self.labels[0].new(1).fill_(-i)[0]);\n",
    "            self.fake.append(torch.ByteTensor([1])[0])\n",
    "        pass;"
   ]
  },
  {
   "cell_type": "code",
   "execution_count": 5,
   "metadata": {},
   "outputs": [],
   "source": [
    "class MnistResNet(ResNet):\n",
    "    def __init__(self):\n",
    "        super(MnistResNet, self).__init__(BasicBlock, [2, 2, 2, 2], num_classes=10)\n",
    "        self.conv1 = torch.nn.Conv2d(1, 64, kernel_size=(7, 7), stride=(2, 2), padding=(3, 3), bias=False)\n",
    "        self.X = torch.nn.Parameter(torch.empty((10, 1, 224, 224)).normal_(mean=0, std=0.3));\n",
    "        self.X.requires_grad = False;\n",
    "        \n",
    "    def forward(self, x):\n",
    "        return torch.softmax(super(MnistResNet, self).forward(x), dim=-1)\n",
    "    \n",
    "    def to_synth(self):\n",
    "        return self.net.forward(self.X);\n",
    "\n",
    "def get_data_loaders(train_batch_size, val_batch_size):\n",
    "    mnist = MNIST(download=False, train=True, root=\".\").train_data.float()\n",
    "    \n",
    "    data_transform = Compose([ Resize((224, 224)),ToTensor(), Normalize((mnist.mean()/255,), (mnist.std()/255,))])\n",
    "\n",
    "    train_loader = DataLoader(MNIST(download=True, root=\".\", transform=data_transform, train=True),\n",
    "                              batch_size=train_batch_size, shuffle=True)\n",
    "\n",
    "    val_loader = DataLoader(MNIST(download=False, root=\".\", transform=data_transform, train=False),\n",
    "                            batch_size=val_batch_size, shuffle=False)\n",
    "    return train_loader, val_loader"
   ]
  },
  {
   "cell_type": "code",
   "execution_count": 6,
   "metadata": {},
   "outputs": [],
   "source": [
    "from collections import OrderedDict\n",
    "class MnistResNet(torch.nn.Module):\n",
    "    def __init__(self):\n",
    "        super(MnistResNet, self).__init__()\n",
    "        \n",
    "        self.net = nn.Sequential(OrderedDict([\n",
    "            ('conv1', torch.nn.Conv2d(1, 64, kernel_size=(5, 5), stride=(1, 1), padding=(1, 1), bias=False)),\n",
    "            ('bn1', torch.nn.BatchNorm2d(64)),\n",
    "            ('relu1', torch.nn.ReLU()),\n",
    "            \n",
    "            ('conv2', torch.nn.Conv2d(64, 128, kernel_size=(3, 3), stride=(2, 2), bias=False)),\n",
    "            ('bn2', torch.nn.BatchNorm2d(128)),\n",
    "            ('relu2', torch.nn.ReLU()),\n",
    "            \n",
    "            ('conv3', torch.nn.Conv2d(128, 256, kernel_size=(3, 3), stride=(1, 1), bias=False)),\n",
    "            ('bn3', torch.nn.BatchNorm2d(256)),\n",
    "            ('relu3', torch.nn.ReLU()),\n",
    "            \n",
    "            ('conv4', torch.nn.Conv2d(256, 512, kernel_size=(3, 3), stride=(1, 1), padding=(1, 1), bias=False)),\n",
    "            ('bn4', torch.nn.BatchNorm2d(512)),\n",
    "            ('relu4', torch.nn.ReLU()),\n",
    "            \n",
    "            ('conv5', torch.nn.Conv2d(512, 256, kernel_size=(3, 3), stride=(2, 2), padding=(1, 1), bias=False)),\n",
    "            ('bn5', torch.nn.BatchNorm2d(256)),\n",
    "            ('relu5', torch.nn.ReLU()),\n",
    "            \n",
    "            ('conv6', torch.nn.Conv2d(256, 512, kernel_size=(3, 3), stride=(1, 1), padding=(1, 1), bias=False)),\n",
    "            ('bn6', torch.nn.BatchNorm2d(512)),\n",
    "            ('relu6', torch.nn.ReLU()),\n",
    "            \n",
    "            ('conv7', torch.nn.Conv2d(512, 256, kernel_size=(3, 3), stride=(1, 1), padding=(1, 1), bias=False)),\n",
    "            ('bn7', torch.nn.BatchNorm2d(256)),\n",
    "            ('relu7', torch.nn.ReLU()),\n",
    "            \n",
    "            ('conv8', torch.nn.Conv2d(256, 512, kernel_size=(3, 3), stride=(2, 2), padding=(1, 1), bias=False)),\n",
    "            ('bn8', torch.nn.BatchNorm2d(512)),\n",
    "            ('relu8', torch.nn.ReLU()),\n",
    "        \n",
    "            ('conv9', torch.nn.Conv2d(512, 512, kernel_size=(3, 3), stride=(1, 1), bias=False)),\n",
    "            ('bn9', torch.nn.BatchNorm2d(512)),\n",
    "            ('relu9', torch.nn.ReLU())]));\n",
    "        \n",
    "        self.fc = torch.nn.Linear(512, 10);\n",
    "        \n",
    "        self.X = torch.nn.Parameter(torch.empty((10, 1, 28, 28)).normal_(mean=0, std=0.3));\n",
    "        self.X.requires_grad = False;\n",
    "        \n",
    "    def forward(self, x):\n",
    "        return torch.sigmoid(self.fc(self.net(x).squeeze(-1).squeeze(-1)));\n",
    "    \n",
    "    def to_synth(self):\n",
    "        return self.fc(self.net(self.X).squeeze(-1).squeeze(-1));\n",
    "    \n",
    "def get_data_loaders(train_batch_size, val_batch_size):\n",
    "    mnist = MNIST(download=False, train=True, root=\".\").train_data.float()\n",
    "    \n",
    "    data_transform = Compose([ Resize((224, 224)),ToTensor(), Normalize((mnist.mean()/255,), (mnist.std()/255,))])\n",
    "\n",
    "    train_loader = DataLoader(MnistDataset(root_dir=''),\n",
    "                              batch_size=train_batch_size, shuffle=True)\n",
    "\n",
    "    val_loader = DataLoader(MnistDataset(root_dir='', training=False),\n",
    "                            batch_size=val_batch_size, shuffle=False)\n",
    "    return train_loader, val_loader"
   ]
  },
  {
   "cell_type": "code",
   "execution_count": 7,
   "metadata": {},
   "outputs": [],
   "source": [
    "def calculate_metric(metric_fn, true_y, pred_y):\n",
    "    if \"average\" in inspect.getfullargspec(metric_fn).args:\n",
    "        return metric_fn(true_y, pred_y, average=\"macro\")\n",
    "    else:\n",
    "        return metric_fn(true_y, pred_y)\n",
    "    \n",
    "def print_scores(p, r, f1, a, batch_size):\n",
    "    for name, scores in zip((\"precision\", \"recall\", \"F1\", \"accuracy\"), (p, r, f1, a)):\n",
    "        print(f\"\\t{name.rjust(14, ' ')}: {sum(scores)/batch_size:.4f}\")"
   ]
  },
  {
   "cell_type": "code",
   "execution_count": 113,
   "metadata": {},
   "outputs": [],
   "source": [
    "def train(model, train_loader, val_loader, epochs=1, alpha=0.1):\n",
    "\n",
    "    start_ts = time.time()\n",
    "\n",
    "    losses = []\n",
    "    loss_function = nn.CrossEntropyLoss()\n",
    "    #optimizer = optim.Adadelta(model.parameters())\n",
    "    optimizer = optim.Adam(model.parameters(), amsgrad=True)\n",
    "\n",
    "    batches = len(train_loader)\n",
    "    val_batches = len(val_loader)\n",
    "\n",
    "    # training loop + eval loop\n",
    "    for epoch in range(epochs):\n",
    "        total_loss = 0\n",
    "        progress = tqdm(enumerate(train_loader), desc=\"Loss: \", total=batches)\n",
    "        model.train()\n",
    "\n",
    "        for i, data in progress:\n",
    "            X, y, fakes = data[0].cuda(), data[1].cuda().squeeze(-1).long(), data[2].cuda()\n",
    "            \n",
    "            mask = torch.zeros((y.shape[0], 10)).byte();\n",
    "            for i in range(y.shape[0]):\n",
    "                mask[i, y[i]] = 1;\n",
    "            \n",
    "            model.zero_grad()\n",
    "            outputs = model(X)\n",
    "            loss = (1-alpha)*loss_function(outputs[1-fakes], y[1-fakes]);\n",
    "            if not torch.all(fakes == 0):\n",
    "                #loss += torch.sum(alpha*torch.log1p(outputs[mask][fakes]));\n",
    "                y = outputs[mask][fakes];\n",
    "                loss += torch.sum(alpha*torch.log1p(torch.log(y/(1-y))));\n",
    "            loss.backward()\n",
    "            optimizer.step()\n",
    "            progress.set_description(\"Loss: {:.4f}\".format(loss.item()))\n",
    "\n",
    "        torch.cuda.empty_cache()\n",
    "\n",
    "        val_losses = 0\n",
    "        precision, recall, f1, accuracy = [], [], [], []\n",
    "\n",
    "        model.eval()\n",
    "        with torch.no_grad():\n",
    "            for i, data in enumerate(val_loader):\n",
    "                X, y = data[0].cuda(), data[1].cuda().squeeze(-1)\n",
    "                outputs = model(X)\n",
    "                val_losses += loss_function(outputs, y.long())\n",
    "\n",
    "                predicted_classes = torch.max(outputs, 1)[1]\n",
    "\n",
    "                for acc, metric in zip((precision, recall, f1, accuracy), \n",
    "                                       (precision_score, recall_score, f1_score, accuracy_score)):\n",
    "                    acc.append(\n",
    "                        calculate_metric(metric, y.cpu(), predicted_classes.cpu())\n",
    "                    )\n",
    "\n",
    "\n",
    "        print(f\"Epoch {epoch+1}/{epochs}, training loss: {total_loss/batches}, validation loss: {val_losses/val_batches}\")\n",
    "        print_scores(precision, recall, f1, accuracy, val_batches)\n",
    "        losses.append(total_loss/batches)\n",
    "    pass"
   ]
  },
  {
   "cell_type": "code",
   "execution_count": 9,
   "metadata": {
    "collapsed": true
   },
   "outputs": [
    {
     "data": {
      "application/vnd.jupyter.widget-view+json": {
       "model_id": "34e5e57d341a4f09a3dd0043170677e1",
       "version_major": 2,
       "version_minor": 0
      },
      "text/plain": [
       "HBox(children=(IntProgress(value=0, description='Loss: ', max=235, style=ProgressStyle(description_width='init…"
      ]
     },
     "metadata": {},
     "output_type": "display_data"
    },
    {
     "name": "stdout",
     "output_type": "stream",
     "text": [
      "\n"
     ]
    },
    {
     "name": "stderr",
     "output_type": "stream",
     "text": [
      "/home/koshelev/anaconda3/lib/python3.7/site-packages/sklearn/metrics/classification.py:1143: UndefinedMetricWarning: Precision is ill-defined and being set to 0.0 in labels with no predicted samples.\n",
      "  'precision', 'predicted', average, warn_for)\n",
      "/home/koshelev/anaconda3/lib/python3.7/site-packages/sklearn/metrics/classification.py:1143: UndefinedMetricWarning: F-score is ill-defined and being set to 0.0 in labels with no predicted samples.\n",
      "  'precision', 'predicted', average, warn_for)\n"
     ]
    },
    {
     "name": "stdout",
     "output_type": "stream",
     "text": [
      "Epoch 1/1, training loss: 0.0, validation loss: 1.4951860904693604\n",
      "\t     precision: 0.9636\n",
      "\t        recall: 0.9627\n",
      "\t            F1: 0.9607\n",
      "\t      accuracy: 0.9631\n"
     ]
    },
    {
     "data": {
      "application/vnd.jupyter.widget-view+json": {
       "model_id": "6b90950f6ed14370aa5ec73406da0dcf",
       "version_major": 2,
       "version_minor": 0
      },
      "text/plain": [
       "HBox(children=(IntProgress(value=0, description='Loss: ', max=274, style=ProgressStyle(description_width='init…"
      ]
     },
     "metadata": {},
     "output_type": "display_data"
    },
    {
     "name": "stdout",
     "output_type": "stream",
     "text": [
      "\n",
      "Epoch 1/1, training loss: 0.0, validation loss: 1.4803828001022339\n",
      "\t     precision: 0.9865\n",
      "\t        recall: 0.9864\n",
      "\t            F1: 0.9860\n",
      "\t      accuracy: 0.9861\n"
     ]
    },
    {
     "data": {
      "application/vnd.jupyter.widget-view+json": {
       "model_id": "90db5fa38b184c8e9f3c2e90cb1a5555",
       "version_major": 2,
       "version_minor": 0
      },
      "text/plain": [
       "HBox(children=(IntProgress(value=0, description='Loss: ', max=313, style=ProgressStyle(description_width='init…"
      ]
     },
     "metadata": {},
     "output_type": "display_data"
    },
    {
     "name": "stdout",
     "output_type": "stream",
     "text": [
      "\n",
      "Epoch 1/1, training loss: 0.0, validation loss: 1.4795548915863037\n",
      "\t     precision: 0.9869\n",
      "\t        recall: 0.9868\n",
      "\t            F1: 0.9864\n",
      "\t      accuracy: 0.9866\n"
     ]
    },
    {
     "data": {
      "application/vnd.jupyter.widget-view+json": {
       "model_id": "761e5320e8524527a272e87e594fe772",
       "version_major": 2,
       "version_minor": 0
      },
      "text/plain": [
       "HBox(children=(IntProgress(value=0, description='Loss: ', max=352, style=ProgressStyle(description_width='init…"
      ]
     },
     "metadata": {},
     "output_type": "display_data"
    },
    {
     "name": "stdout",
     "output_type": "stream",
     "text": [
      "\n",
      "Epoch 1/1, training loss: 0.0, validation loss: 1.4819211959838867\n",
      "\t     precision: 0.9851\n",
      "\t        recall: 0.9849\n",
      "\t            F1: 0.9846\n",
      "\t      accuracy: 0.9849\n"
     ]
    },
    {
     "data": {
      "application/vnd.jupyter.widget-view+json": {
       "model_id": "0649d2145f284a1884563b2122c4fefc",
       "version_major": 2,
       "version_minor": 0
      },
      "text/plain": [
       "HBox(children=(IntProgress(value=0, description='Loss: ', max=391, style=ProgressStyle(description_width='init…"
      ]
     },
     "metadata": {},
     "output_type": "display_data"
    },
    {
     "name": "stdout",
     "output_type": "stream",
     "text": [
      "\n",
      "Epoch 1/1, training loss: 0.0, validation loss: 1.4891504049301147\n",
      "\t     precision: 0.9788\n",
      "\t        recall: 0.9775\n",
      "\t            F1: 0.9772\n",
      "\t      accuracy: 0.9777\n"
     ]
    },
    {
     "data": {
      "application/vnd.jupyter.widget-view+json": {
       "model_id": "6f16974003ff4525bdfe18b8c3a0e12b",
       "version_major": 2,
       "version_minor": 0
      },
      "text/plain": [
       "HBox(children=(IntProgress(value=0, description='Loss: ', max=430, style=ProgressStyle(description_width='init…"
      ]
     },
     "metadata": {},
     "output_type": "display_data"
    },
    {
     "name": "stdout",
     "output_type": "stream",
     "text": [
      "\n",
      "Epoch 1/1, training loss: 0.0, validation loss: 1.4768258333206177\n",
      "\t     precision: 0.9872\n",
      "\t        recall: 0.9873\n",
      "\t            F1: 0.9869\n",
      "\t      accuracy: 0.9872\n"
     ]
    },
    {
     "data": {
      "application/vnd.jupyter.widget-view+json": {
       "model_id": "50bab860ea1842459137d4753153306e",
       "version_major": 2,
       "version_minor": 0
      },
      "text/plain": [
       "HBox(children=(IntProgress(value=0, description='Loss: ', max=469, style=ProgressStyle(description_width='init…"
      ]
     },
     "metadata": {},
     "output_type": "display_data"
    },
    {
     "name": "stdout",
     "output_type": "stream",
     "text": [
      "\n",
      "Epoch 1/1, training loss: 0.0, validation loss: 1.4814772605895996\n",
      "\t     precision: 0.9838\n",
      "\t        recall: 0.9834\n",
      "\t            F1: 0.9830\n",
      "\t      accuracy: 0.9835\n"
     ]
    },
    {
     "data": {
      "application/vnd.jupyter.widget-view+json": {
       "model_id": "9025959f868640f4a44185f8f38c8b0a",
       "version_major": 2,
       "version_minor": 0
      },
      "text/plain": [
       "HBox(children=(IntProgress(value=0, description='Loss: ', max=508, style=ProgressStyle(description_width='init…"
      ]
     },
     "metadata": {},
     "output_type": "display_data"
    },
    {
     "name": "stdout",
     "output_type": "stream",
     "text": [
      "\n",
      "Epoch 1/1, training loss: 0.0, validation loss: 1.4825327396392822\n",
      "\t     precision: 0.9822\n",
      "\t        recall: 0.9812\n",
      "\t            F1: 0.9811\n",
      "\t      accuracy: 0.9812\n"
     ]
    },
    {
     "data": {
      "application/vnd.jupyter.widget-view+json": {
       "model_id": "b720ddbc4ac54c928b8af1771b9e0543",
       "version_major": 2,
       "version_minor": 0
      },
      "text/plain": [
       "HBox(children=(IntProgress(value=0, description='Loss: ', max=547, style=ProgressStyle(description_width='init…"
      ]
     },
     "metadata": {},
     "output_type": "display_data"
    },
    {
     "name": "stdout",
     "output_type": "stream",
     "text": [
      "\n",
      "Epoch 1/1, training loss: 0.0, validation loss: 1.4762018918991089\n",
      "\t     precision: 0.9882\n",
      "\t        recall: 0.9880\n",
      "\t            F1: 0.9877\n",
      "\t      accuracy: 0.9881\n"
     ]
    },
    {
     "data": {
      "application/vnd.jupyter.widget-view+json": {
       "model_id": "edff843411e54d43886281d1ab314670",
       "version_major": 2,
       "version_minor": 0
      },
      "text/plain": [
       "HBox(children=(IntProgress(value=0, description='Loss: ', max=586, style=ProgressStyle(description_width='init…"
      ]
     },
     "metadata": {},
     "output_type": "display_data"
    },
    {
     "name": "stdout",
     "output_type": "stream",
     "text": [
      "\n",
      "Epoch 1/1, training loss: 0.0, validation loss: 1.4819960594177246\n",
      "\t     precision: 0.9834\n",
      "\t        recall: 0.9829\n",
      "\t            F1: 0.9826\n",
      "\t      accuracy: 0.9825\n"
     ]
    },
    {
     "data": {
      "application/vnd.jupyter.widget-view+json": {
       "model_id": "57d23f23f7be4180a4f46441a49d6bd8",
       "version_major": 2,
       "version_minor": 0
      },
      "text/plain": [
       "HBox(children=(IntProgress(value=0, description='Loss: ', max=625, style=ProgressStyle(description_width='init…"
      ]
     },
     "metadata": {},
     "output_type": "display_data"
    },
    {
     "name": "stdout",
     "output_type": "stream",
     "text": [
      "\n",
      "Epoch 1/1, training loss: 0.0, validation loss: 1.4748495817184448\n",
      "\t     precision: 0.9890\n",
      "\t        recall: 0.9887\n",
      "\t            F1: 0.9885\n",
      "\t      accuracy: 0.9888\n"
     ]
    },
    {
     "data": {
      "application/vnd.jupyter.widget-view+json": {
       "model_id": "0c599a721a1a498785320f5dde51a1ab",
       "version_major": 2,
       "version_minor": 0
      },
      "text/plain": [
       "HBox(children=(IntProgress(value=0, description='Loss: ', max=665, style=ProgressStyle(description_width='init…"
      ]
     },
     "metadata": {},
     "output_type": "display_data"
    },
    {
     "name": "stdout",
     "output_type": "stream",
     "text": [
      "\n",
      "Epoch 1/1, training loss: 0.0, validation loss: 1.4758129119873047\n",
      "\t     precision: 0.9869\n",
      "\t        recall: 0.9871\n",
      "\t            F1: 0.9867\n",
      "\t      accuracy: 0.9868\n"
     ]
    },
    {
     "data": {
      "application/vnd.jupyter.widget-view+json": {
       "model_id": "c30c1dee6cfa4c43959221b24cbd3687",
       "version_major": 2,
       "version_minor": 0
      },
      "text/plain": [
       "HBox(children=(IntProgress(value=0, description='Loss: ', max=704, style=ProgressStyle(description_width='init…"
      ]
     },
     "metadata": {},
     "output_type": "display_data"
    },
    {
     "name": "stdout",
     "output_type": "stream",
     "text": [
      "\n",
      "Epoch 1/1, training loss: 0.0, validation loss: 1.4766649007797241\n",
      "\t     precision: 0.9843\n",
      "\t        recall: 0.9836\n",
      "\t            F1: 0.9835\n",
      "\t      accuracy: 0.9840\n"
     ]
    },
    {
     "data": {
      "application/vnd.jupyter.widget-view+json": {
       "model_id": "8c0f65193ccd42618fa4a436c23884a9",
       "version_major": 2,
       "version_minor": 0
      },
      "text/plain": [
       "HBox(children=(IntProgress(value=0, description='Loss: ', max=743, style=ProgressStyle(description_width='init…"
      ]
     },
     "metadata": {},
     "output_type": "display_data"
    },
    {
     "name": "stdout",
     "output_type": "stream",
     "text": [
      "\n",
      "Epoch 1/1, training loss: 0.0, validation loss: 1.4735344648361206\n",
      "\t     precision: 0.9896\n",
      "\t        recall: 0.9895\n",
      "\t            F1: 0.9892\n",
      "\t      accuracy: 0.9894\n"
     ]
    },
    {
     "data": {
      "application/vnd.jupyter.widget-view+json": {
       "model_id": "ebc409d182184766a1b8e4037398d72f",
       "version_major": 2,
       "version_minor": 0
      },
      "text/plain": [
       "HBox(children=(IntProgress(value=0, description='Loss: ', max=782, style=ProgressStyle(description_width='init…"
      ]
     },
     "metadata": {},
     "output_type": "display_data"
    },
    {
     "name": "stdout",
     "output_type": "stream",
     "text": [
      "\n",
      "Epoch 1/1, training loss: 0.0, validation loss: 1.4767462015151978\n",
      "\t     precision: 0.9869\n",
      "\t        recall: 0.9864\n",
      "\t            F1: 0.9862\n",
      "\t      accuracy: 0.9862\n"
     ]
    },
    {
     "data": {
      "application/vnd.jupyter.widget-view+json": {
       "model_id": "0eb7827b4fc341779de8605c857d53a1",
       "version_major": 2,
       "version_minor": 0
      },
      "text/plain": [
       "HBox(children=(IntProgress(value=0, description='Loss: ', max=821, style=ProgressStyle(description_width='init…"
      ]
     },
     "metadata": {},
     "output_type": "display_data"
    },
    {
     "name": "stdout",
     "output_type": "stream",
     "text": [
      "\n",
      "Epoch 1/1, training loss: 0.0, validation loss: 1.4745067358016968\n",
      "\t     precision: 0.9873\n",
      "\t        recall: 0.9878\n",
      "\t            F1: 0.9872\n",
      "\t      accuracy: 0.9875\n"
     ]
    },
    {
     "data": {
      "application/vnd.jupyter.widget-view+json": {
       "model_id": "5a2b3facd1bf4cb6914e2f5f4df02223",
       "version_major": 2,
       "version_minor": 0
      },
      "text/plain": [
       "HBox(children=(IntProgress(value=0, description='Loss: ', max=860, style=ProgressStyle(description_width='init…"
      ]
     },
     "metadata": {},
     "output_type": "display_data"
    },
    {
     "name": "stdout",
     "output_type": "stream",
     "text": [
      "\n",
      "Epoch 1/1, training loss: 0.0, validation loss: 1.477731704711914\n",
      "\t     precision: 0.9847\n",
      "\t        recall: 0.9846\n",
      "\t            F1: 0.9842\n",
      "\t      accuracy: 0.9844\n"
     ]
    },
    {
     "data": {
      "application/vnd.jupyter.widget-view+json": {
       "model_id": "4d007e8f15ad46f28f0537cc33bdd002",
       "version_major": 2,
       "version_minor": 0
      },
      "text/plain": [
       "HBox(children=(IntProgress(value=0, description='Loss: ', max=899, style=ProgressStyle(description_width='init…"
      ]
     },
     "metadata": {},
     "output_type": "display_data"
    },
    {
     "name": "stdout",
     "output_type": "stream",
     "text": [
      "\n",
      "Epoch 1/1, training loss: 0.0, validation loss: 1.4742461442947388\n",
      "\t     precision: 0.9879\n",
      "\t        recall: 0.9879\n",
      "\t            F1: 0.9876\n",
      "\t      accuracy: 0.9878\n"
     ]
    },
    {
     "data": {
      "application/vnd.jupyter.widget-view+json": {
       "model_id": "140f6655a0b740eebb8bd923dd6aa5c3",
       "version_major": 2,
       "version_minor": 0
      },
      "text/plain": [
       "HBox(children=(IntProgress(value=0, description='Loss: ', max=938, style=ProgressStyle(description_width='init…"
      ]
     },
     "metadata": {},
     "output_type": "display_data"
    },
    {
     "name": "stdout",
     "output_type": "stream",
     "text": [
      "\n",
      "Epoch 1/1, training loss: 0.0, validation loss: 1.4711793661117554\n",
      "\t     precision: 0.9890\n",
      "\t        recall: 0.9893\n",
      "\t            F1: 0.9888\n",
      "\t      accuracy: 0.9892\n"
     ]
    },
    {
     "data": {
      "application/vnd.jupyter.widget-view+json": {
       "model_id": "debe572bf10641dfa91cd8648cc3bb30",
       "version_major": 2,
       "version_minor": 0
      },
      "text/plain": [
       "HBox(children=(IntProgress(value=0, description='Loss: ', max=977, style=ProgressStyle(description_width='init…"
      ]
     },
     "metadata": {},
     "output_type": "display_data"
    },
    {
     "name": "stdout",
     "output_type": "stream",
     "text": [
      "\n",
      "Epoch 1/1, training loss: 0.0, validation loss: 1.4771581888198853\n",
      "\t     precision: 0.9833\n",
      "\t        recall: 0.9830\n",
      "\t            F1: 0.9826\n",
      "\t      accuracy: 0.9829\n"
     ]
    },
    {
     "data": {
      "application/vnd.jupyter.widget-view+json": {
       "model_id": "694c17729dfe4225923a914e31767924",
       "version_major": 2,
       "version_minor": 0
      },
      "text/plain": [
       "HBox(children=(IntProgress(value=0, description='Loss: ', max=1016, style=ProgressStyle(description_width='ini…"
      ]
     },
     "metadata": {},
     "output_type": "display_data"
    },
    {
     "name": "stdout",
     "output_type": "stream",
     "text": [
      "\n",
      "Epoch 1/1, training loss: 0.0, validation loss: 1.472130537033081\n",
      "\t     precision: 0.9880\n",
      "\t        recall: 0.9887\n",
      "\t            F1: 0.9881\n",
      "\t      accuracy: 0.9885\n"
     ]
    },
    {
     "data": {
      "application/vnd.jupyter.widget-view+json": {
       "model_id": "c6e8f2986e6741fbbac1bee7b80a6d7b",
       "version_major": 2,
       "version_minor": 0
      },
      "text/plain": [
       "HBox(children=(IntProgress(value=0, description='Loss: ', max=1055, style=ProgressStyle(description_width='ini…"
      ]
     },
     "metadata": {},
     "output_type": "display_data"
    },
    {
     "name": "stdout",
     "output_type": "stream",
     "text": [
      "\n",
      "Epoch 1/1, training loss: 0.0, validation loss: 1.4756187200546265\n",
      "\t     precision: 0.9867\n",
      "\t        recall: 0.9868\n",
      "\t            F1: 0.9863\n",
      "\t      accuracy: 0.9864\n"
     ]
    },
    {
     "data": {
      "application/vnd.jupyter.widget-view+json": {
       "model_id": "5fa223efa2d24c5eb8292e3ea4758ac4",
       "version_major": 2,
       "version_minor": 0
      },
      "text/plain": [
       "HBox(children=(IntProgress(value=0, description='Loss: ', max=1094, style=ProgressStyle(description_width='ini…"
      ]
     },
     "metadata": {},
     "output_type": "display_data"
    },
    {
     "name": "stdout",
     "output_type": "stream",
     "text": [
      "\n",
      "Epoch 1/1, training loss: 0.0, validation loss: 1.473050594329834\n",
      "\t     precision: 0.9880\n",
      "\t        recall: 0.9882\n",
      "\t            F1: 0.9878\n",
      "\t      accuracy: 0.9882\n"
     ]
    },
    {
     "data": {
      "application/vnd.jupyter.widget-view+json": {
       "model_id": "37ba57fe302041daa10a77a9c792c0bc",
       "version_major": 2,
       "version_minor": 0
      },
      "text/plain": [
       "HBox(children=(IntProgress(value=0, description='Loss: ', max=1133, style=ProgressStyle(description_width='ini…"
      ]
     },
     "metadata": {},
     "output_type": "display_data"
    },
    {
     "name": "stdout",
     "output_type": "stream",
     "text": [
      "\n",
      "Epoch 1/1, training loss: 0.0, validation loss: 1.4744089841842651\n",
      "\t     precision: 0.9855\n",
      "\t        recall: 0.9859\n",
      "\t            F1: 0.9853\n",
      "\t      accuracy: 0.9856\n"
     ]
    },
    {
     "data": {
      "application/vnd.jupyter.widget-view+json": {
       "model_id": "207aadc0dd694b5cb50fe642653c9249",
       "version_major": 2,
       "version_minor": 0
      },
      "text/plain": [
       "HBox(children=(IntProgress(value=0, description='Loss: ', max=1172, style=ProgressStyle(description_width='ini…"
      ]
     },
     "metadata": {},
     "output_type": "display_data"
    },
    {
     "name": "stdout",
     "output_type": "stream",
     "text": [
      "\n",
      "Epoch 1/1, training loss: 0.0, validation loss: 1.4811066389083862\n",
      "\t     precision: 0.9795\n",
      "\t        recall: 0.9789\n",
      "\t            F1: 0.9781\n",
      "\t      accuracy: 0.9787\n"
     ]
    },
    {
     "data": {
      "application/vnd.jupyter.widget-view+json": {
       "model_id": "2d72d64b02d74bc0b62fd965f1f0d16d",
       "version_major": 2,
       "version_minor": 0
      },
      "text/plain": [
       "HBox(children=(IntProgress(value=0, description='Loss: ', max=1211, style=ProgressStyle(description_width='ini…"
      ]
     },
     "metadata": {},
     "output_type": "display_data"
    },
    {
     "name": "stdout",
     "output_type": "stream",
     "text": [
      "\n",
      "Epoch 1/1, training loss: 0.0, validation loss: 1.4718631505966187\n",
      "\t     precision: 0.9886\n",
      "\t        recall: 0.9887\n",
      "\t            F1: 0.9883\n",
      "\t      accuracy: 0.9885\n"
     ]
    },
    {
     "data": {
      "application/vnd.jupyter.widget-view+json": {
       "model_id": "474c37576b8a416dabfa5d029559a436",
       "version_major": 2,
       "version_minor": 0
      },
      "text/plain": [
       "HBox(children=(IntProgress(value=0, description='Loss: ', max=1250, style=ProgressStyle(description_width='ini…"
      ]
     },
     "metadata": {},
     "output_type": "display_data"
    },
    {
     "name": "stdout",
     "output_type": "stream",
     "text": [
      "\n",
      "Epoch 1/1, training loss: 0.0, validation loss: 1.471610426902771\n",
      "\t     precision: 0.9888\n",
      "\t        recall: 0.9886\n",
      "\t            F1: 0.9884\n",
      "\t      accuracy: 0.9886\n"
     ]
    },
    {
     "data": {
      "application/vnd.jupyter.widget-view+json": {
       "model_id": "90b504aa1cc3422e8b631ab6bfcf62bd",
       "version_major": 2,
       "version_minor": 0
      },
      "text/plain": [
       "HBox(children=(IntProgress(value=0, description='Loss: ', max=1290, style=ProgressStyle(description_width='ini…"
      ]
     },
     "metadata": {},
     "output_type": "display_data"
    },
    {
     "name": "stdout",
     "output_type": "stream",
     "text": [
      "\n",
      "Epoch 1/1, training loss: 0.0, validation loss: 1.4731961488723755\n",
      "\t     precision: 0.9876\n",
      "\t        recall: 0.9873\n",
      "\t            F1: 0.9871\n",
      "\t      accuracy: 0.9875\n"
     ]
    },
    {
     "data": {
      "application/vnd.jupyter.widget-view+json": {
       "model_id": "d14f715a9fdf471e98058a61f2bfed92",
       "version_major": 2,
       "version_minor": 0
      },
      "text/plain": [
       "HBox(children=(IntProgress(value=0, description='Loss: ', max=1329, style=ProgressStyle(description_width='ini…"
      ]
     },
     "metadata": {},
     "output_type": "display_data"
    },
    {
     "name": "stdout",
     "output_type": "stream",
     "text": [
      "\n",
      "Epoch 1/1, training loss: 0.0, validation loss: 1.479650855064392\n",
      "\t     precision: 0.9814\n",
      "\t        recall: 0.9807\n",
      "\t            F1: 0.9805\n",
      "\t      accuracy: 0.9806\n"
     ]
    },
    {
     "data": {
      "application/vnd.jupyter.widget-view+json": {
       "model_id": "cdff354996004de987bdeca51c02f78b",
       "version_major": 2,
       "version_minor": 0
      },
      "text/plain": [
       "HBox(children=(IntProgress(value=0, description='Loss: ', max=1368, style=ProgressStyle(description_width='ini…"
      ]
     },
     "metadata": {},
     "output_type": "display_data"
    },
    {
     "name": "stdout",
     "output_type": "stream",
     "text": [
      "\n",
      "Epoch 1/1, training loss: 0.0, validation loss: 1.4743465185165405\n",
      "\t     precision: 0.9859\n",
      "\t        recall: 0.9856\n",
      "\t            F1: 0.9853\n",
      "\t      accuracy: 0.9856\n"
     ]
    },
    {
     "data": {
      "application/vnd.jupyter.widget-view+json": {
       "model_id": "805918669df44943ae3a496589c5f2e5",
       "version_major": 2,
       "version_minor": 0
      },
      "text/plain": [
       "HBox(children=(IntProgress(value=0, description='Loss: ', max=1407, style=ProgressStyle(description_width='ini…"
      ]
     },
     "metadata": {},
     "output_type": "display_data"
    },
    {
     "name": "stdout",
     "output_type": "stream",
     "text": [
      "\n",
      "Epoch 1/1, training loss: 0.0, validation loss: 1.4735136032104492\n",
      "\t     precision: 0.9863\n",
      "\t        recall: 0.9858\n",
      "\t            F1: 0.9856\n",
      "\t      accuracy: 0.9859\n"
     ]
    },
    {
     "data": {
      "application/vnd.jupyter.widget-view+json": {
       "model_id": "cce3ab628a1c479e9be353587109eab6",
       "version_major": 2,
       "version_minor": 0
      },
      "text/plain": [
       "HBox(children=(IntProgress(value=0, description='Loss: ', max=1446, style=ProgressStyle(description_width='ini…"
      ]
     },
     "metadata": {},
     "output_type": "display_data"
    },
    {
     "name": "stdout",
     "output_type": "stream",
     "text": [
      "\n",
      "Epoch 1/1, training loss: 0.0, validation loss: 1.4752713441848755\n",
      "\t     precision: 0.9838\n",
      "\t        recall: 0.9837\n",
      "\t            F1: 0.9833\n",
      "\t      accuracy: 0.9837\n"
     ]
    },
    {
     "data": {
      "application/vnd.jupyter.widget-view+json": {
       "model_id": "28c1b33730714096bc9ab4d0cfee39d1",
       "version_major": 2,
       "version_minor": 0
      },
      "text/plain": [
       "HBox(children=(IntProgress(value=0, description='Loss: ', max=1485, style=ProgressStyle(description_width='ini…"
      ]
     },
     "metadata": {},
     "output_type": "display_data"
    },
    {
     "name": "stdout",
     "output_type": "stream",
     "text": [
      "\n",
      "Epoch 1/1, training loss: 0.0, validation loss: 1.473111629486084\n",
      "\t     precision: 0.9868\n",
      "\t        recall: 0.9867\n",
      "\t            F1: 0.9863\n",
      "\t      accuracy: 0.9866\n"
     ]
    },
    {
     "data": {
      "application/vnd.jupyter.widget-view+json": {
       "model_id": "932ea7f69803456cb6a4a7ffa5098191",
       "version_major": 2,
       "version_minor": 0
      },
      "text/plain": [
       "HBox(children=(IntProgress(value=0, description='Loss: ', max=1524, style=ProgressStyle(description_width='ini…"
      ]
     },
     "metadata": {},
     "output_type": "display_data"
    },
    {
     "name": "stdout",
     "output_type": "stream",
     "text": [
      "\n",
      "Epoch 1/1, training loss: 0.0, validation loss: 1.471514105796814\n",
      "\t     precision: 0.9878\n",
      "\t        recall: 0.9876\n",
      "\t            F1: 0.9874\n",
      "\t      accuracy: 0.9876\n"
     ]
    },
    {
     "data": {
      "application/vnd.jupyter.widget-view+json": {
       "model_id": "d98a82bfa4114a4382b7483f8ea2db0f",
       "version_major": 2,
       "version_minor": 0
      },
      "text/plain": [
       "HBox(children=(IntProgress(value=0, description='Loss: ', max=1563, style=ProgressStyle(description_width='ini…"
      ]
     },
     "metadata": {},
     "output_type": "display_data"
    },
    {
     "name": "stdout",
     "output_type": "stream",
     "text": [
      "\n",
      "Epoch 1/1, training loss: 0.0, validation loss: 1.4719641208648682\n",
      "\t     precision: 0.9885\n",
      "\t        recall: 0.9888\n",
      "\t            F1: 0.9883\n",
      "\t      accuracy: 0.9885\n"
     ]
    },
    {
     "data": {
      "application/vnd.jupyter.widget-view+json": {
       "model_id": "a58ca9e27b9842c4b5fd32accd9b674d",
       "version_major": 2,
       "version_minor": 0
      },
      "text/plain": [
       "HBox(children=(IntProgress(value=0, description='Loss: ', max=1602, style=ProgressStyle(description_width='ini…"
      ]
     },
     "metadata": {},
     "output_type": "display_data"
    },
    {
     "name": "stdout",
     "output_type": "stream",
     "text": [
      "\n",
      "Epoch 1/1, training loss: 0.0, validation loss: 1.4795106649398804\n",
      "\t     precision: 0.9795\n",
      "\t        recall: 0.9799\n",
      "\t            F1: 0.9788\n",
      "\t      accuracy: 0.9789\n"
     ]
    },
    {
     "data": {
      "application/vnd.jupyter.widget-view+json": {
       "model_id": "d79d19722de348f3a44dafb3d89caf5a",
       "version_major": 2,
       "version_minor": 0
      },
      "text/plain": [
       "HBox(children=(IntProgress(value=0, description='Loss: ', max=1641, style=ProgressStyle(description_width='ini…"
      ]
     },
     "metadata": {},
     "output_type": "display_data"
    },
    {
     "name": "stdout",
     "output_type": "stream",
     "text": [
      "\n",
      "Epoch 1/1, training loss: 0.0, validation loss: 1.4711805582046509\n",
      "\t     precision: 0.9894\n",
      "\t        recall: 0.9897\n",
      "\t            F1: 0.9894\n",
      "\t      accuracy: 0.9896\n"
     ]
    },
    {
     "data": {
      "application/vnd.jupyter.widget-view+json": {
       "model_id": "47571a642b7e432d9e5b481a84fe7edd",
       "version_major": 2,
       "version_minor": 0
      },
      "text/plain": [
       "HBox(children=(IntProgress(value=0, description='Loss: ', max=1680, style=ProgressStyle(description_width='ini…"
      ]
     },
     "metadata": {},
     "output_type": "display_data"
    },
    {
     "name": "stdout",
     "output_type": "stream",
     "text": [
      "\n",
      "Epoch 1/1, training loss: 0.0, validation loss: 1.4760183095932007\n",
      "\t     precision: 0.9859\n",
      "\t        recall: 0.9859\n",
      "\t            F1: 0.9855\n",
      "\t      accuracy: 0.9857\n"
     ]
    },
    {
     "data": {
      "application/vnd.jupyter.widget-view+json": {
       "model_id": "774369e09b3b4ef983cfab0d52a05bed",
       "version_major": 2,
       "version_minor": 0
      },
      "text/plain": [
       "HBox(children=(IntProgress(value=0, description='Loss: ', max=1719, style=ProgressStyle(description_width='ini…"
      ]
     },
     "metadata": {},
     "output_type": "display_data"
    },
    {
     "name": "stdout",
     "output_type": "stream",
     "text": [
      "\n",
      "Epoch 1/1, training loss: 0.0, validation loss: 1.4727060794830322\n",
      "\t     precision: 0.9869\n",
      "\t        recall: 0.9868\n",
      "\t            F1: 0.9864\n",
      "\t      accuracy: 0.9868\n"
     ]
    },
    {
     "data": {
      "application/vnd.jupyter.widget-view+json": {
       "model_id": "ef6fee7df8484aaea19b868a7aec7d84",
       "version_major": 2,
       "version_minor": 0
      },
      "text/plain": [
       "HBox(children=(IntProgress(value=0, description='Loss: ', max=1758, style=ProgressStyle(description_width='ini…"
      ]
     },
     "metadata": {},
     "output_type": "display_data"
    },
    {
     "name": "stdout",
     "output_type": "stream",
     "text": [
      "\n",
      "Epoch 1/1, training loss: 0.0, validation loss: 1.4714961051940918\n",
      "\t     precision: 0.9882\n",
      "\t        recall: 0.9884\n",
      "\t            F1: 0.9880\n",
      "\t      accuracy: 0.9882\n"
     ]
    },
    {
     "data": {
      "application/vnd.jupyter.widget-view+json": {
       "model_id": "220b2b89aff44a8d8535cf2285cb3ff9",
       "version_major": 2,
       "version_minor": 0
      },
      "text/plain": [
       "HBox(children=(IntProgress(value=0, description='Loss: ', max=1797, style=ProgressStyle(description_width='ini…"
      ]
     },
     "metadata": {},
     "output_type": "display_data"
    },
    {
     "name": "stdout",
     "output_type": "stream",
     "text": [
      "\n",
      "Epoch 1/1, training loss: 0.0, validation loss: 1.47080397605896\n",
      "\t     precision: 0.9903\n",
      "\t        recall: 0.9908\n",
      "\t            F1: 0.9903\n",
      "\t      accuracy: 0.9906\n"
     ]
    },
    {
     "data": {
      "application/vnd.jupyter.widget-view+json": {
       "model_id": "0833a99f322645b8b184629f42c48c1e",
       "version_major": 2,
       "version_minor": 0
      },
      "text/plain": [
       "HBox(children=(IntProgress(value=0, description='Loss: ', max=1836, style=ProgressStyle(description_width='ini…"
      ]
     },
     "metadata": {},
     "output_type": "display_data"
    },
    {
     "name": "stdout",
     "output_type": "stream",
     "text": [
      "\n",
      "Epoch 1/1, training loss: 0.0, validation loss: 1.4726786613464355\n",
      "\t     precision: 0.9865\n",
      "\t        recall: 0.9868\n",
      "\t            F1: 0.9863\n",
      "\t      accuracy: 0.9865\n"
     ]
    },
    {
     "data": {
      "application/vnd.jupyter.widget-view+json": {
       "model_id": "5ef25d8d6aaa4c4cb1e1e7ae89daa9fe",
       "version_major": 2,
       "version_minor": 0
      },
      "text/plain": [
       "HBox(children=(IntProgress(value=0, description='Loss: ', max=1875, style=ProgressStyle(description_width='ini…"
      ]
     },
     "metadata": {},
     "output_type": "display_data"
    },
    {
     "name": "stdout",
     "output_type": "stream",
     "text": [
      "\n",
      "Epoch 1/1, training loss: 0.0, validation loss: 1.4740185737609863\n",
      "\t     precision: 0.9857\n",
      "\t        recall: 0.9859\n",
      "\t            F1: 0.9853\n",
      "\t      accuracy: 0.9857\n"
     ]
    },
    {
     "data": {
      "application/vnd.jupyter.widget-view+json": {
       "model_id": "e1104b7a3bde4088a5d136e61ec4aba5",
       "version_major": 2,
       "version_minor": 0
      },
      "text/plain": [
       "HBox(children=(IntProgress(value=0, description='Loss: ', max=1915, style=ProgressStyle(description_width='ini…"
      ]
     },
     "metadata": {},
     "output_type": "display_data"
    },
    {
     "name": "stdout",
     "output_type": "stream",
     "text": [
      "\n",
      "Epoch 1/1, training loss: 0.0, validation loss: 1.4737547636032104\n",
      "\t     precision: 0.9862\n",
      "\t        recall: 0.9864\n",
      "\t            F1: 0.9858\n",
      "\t      accuracy: 0.9858\n"
     ]
    },
    {
     "data": {
      "application/vnd.jupyter.widget-view+json": {
       "model_id": "844674eb596f4e188563e554c41a636b",
       "version_major": 2,
       "version_minor": 0
      },
      "text/plain": [
       "HBox(children=(IntProgress(value=0, description='Loss: ', max=1954, style=ProgressStyle(description_width='ini…"
      ]
     },
     "metadata": {},
     "output_type": "display_data"
    },
    {
     "name": "stdout",
     "output_type": "stream",
     "text": [
      "\n",
      "Epoch 1/1, training loss: 0.0, validation loss: 1.470354676246643\n",
      "\t     precision: 0.9898\n",
      "\t        recall: 0.9900\n",
      "\t            F1: 0.9897\n",
      "\t      accuracy: 0.9898\n"
     ]
    },
    {
     "data": {
      "application/vnd.jupyter.widget-view+json": {
       "model_id": "f630dbd1591b46399781debe435110db",
       "version_major": 2,
       "version_minor": 0
      },
      "text/plain": [
       "HBox(children=(IntProgress(value=0, description='Loss: ', max=1993, style=ProgressStyle(description_width='ini…"
      ]
     },
     "metadata": {},
     "output_type": "display_data"
    },
    {
     "name": "stdout",
     "output_type": "stream",
     "text": [
      "\n",
      "Epoch 1/1, training loss: 0.0, validation loss: 1.4706412553787231\n",
      "\t     precision: 0.9899\n",
      "\t        recall: 0.9905\n",
      "\t            F1: 0.9899\n",
      "\t      accuracy: 0.9901\n"
     ]
    },
    {
     "data": {
      "application/vnd.jupyter.widget-view+json": {
       "model_id": "4c73ebff0a654f389d531b6554e4b000",
       "version_major": 2,
       "version_minor": 0
      },
      "text/plain": [
       "HBox(children=(IntProgress(value=0, description='Loss: ', max=2032, style=ProgressStyle(description_width='ini…"
      ]
     },
     "metadata": {},
     "output_type": "display_data"
    },
    {
     "name": "stdout",
     "output_type": "stream",
     "text": [
      "\n",
      "Epoch 1/1, training loss: 0.0, validation loss: 1.4727405309677124\n",
      "\t     precision: 0.9859\n",
      "\t        recall: 0.9864\n",
      "\t            F1: 0.9858\n",
      "\t      accuracy: 0.9862\n"
     ]
    },
    {
     "data": {
      "application/vnd.jupyter.widget-view+json": {
       "model_id": "4c280f645ece49b998fa63c6df038d58",
       "version_major": 2,
       "version_minor": 0
      },
      "text/plain": [
       "HBox(children=(IntProgress(value=0, description='Loss: ', max=2071, style=ProgressStyle(description_width='ini…"
      ]
     },
     "metadata": {},
     "output_type": "display_data"
    },
    {
     "name": "stdout",
     "output_type": "stream",
     "text": [
      "\n",
      "Epoch 1/1, training loss: 0.0, validation loss: 1.4739110469818115\n",
      "\t     precision: 0.9858\n",
      "\t        recall: 0.9853\n",
      "\t            F1: 0.9852\n",
      "\t      accuracy: 0.9857\n"
     ]
    },
    {
     "data": {
      "application/vnd.jupyter.widget-view+json": {
       "model_id": "aa1ccfb9518a4107b64ac2f7e74220eb",
       "version_major": 2,
       "version_minor": 0
      },
      "text/plain": [
       "HBox(children=(IntProgress(value=0, description='Loss: ', max=2110, style=ProgressStyle(description_width='ini…"
      ]
     },
     "metadata": {},
     "output_type": "display_data"
    },
    {
     "name": "stdout",
     "output_type": "stream",
     "text": [
      "\n",
      "Epoch 1/1, training loss: 0.0, validation loss: 1.474223017692566\n",
      "\t     precision: 0.9853\n",
      "\t        recall: 0.9848\n",
      "\t            F1: 0.9846\n",
      "\t      accuracy: 0.9849\n"
     ]
    },
    {
     "ename": "KeyboardInterrupt",
     "evalue": "",
     "output_type": "error",
     "traceback": [
      "\u001b[0;31m---------------------------------------------------------------------------\u001b[0m",
      "\u001b[0;31mKeyboardInterrupt\u001b[0m                         Traceback (most recent call last)",
      "\u001b[0;32m<ipython-input-9-659e426c3955>\u001b[0m in \u001b[0;36m<module>\u001b[0;34m\u001b[0m\n\u001b[1;32m      8\u001b[0m     \u001b[0ms\u001b[0m \u001b[0;34m=\u001b[0m \u001b[0mSynthesis\u001b[0m\u001b[0;34m(\u001b[0m\u001b[0minit_std\u001b[0m\u001b[0;34m=\u001b[0m\u001b[0;36m0.3\u001b[0m\u001b[0;34m)\u001b[0m\u001b[0;34m\u001b[0m\u001b[0;34m\u001b[0m\u001b[0m\n\u001b[1;32m      9\u001b[0m     \u001b[0;32mfor\u001b[0m \u001b[0mi\u001b[0m \u001b[0;32min\u001b[0m \u001b[0mrange\u001b[0m\u001b[0;34m(\u001b[0m\u001b[0ml\u001b[0m\u001b[0;34m)\u001b[0m\u001b[0;34m:\u001b[0m\u001b[0;34m\u001b[0m\u001b[0;34m\u001b[0m\u001b[0m\n\u001b[0;32m---> 10\u001b[0;31m         \u001b[0mtrain_loader\u001b[0m\u001b[0;34m.\u001b[0m\u001b[0mdataset\u001b[0m\u001b[0;34m.\u001b[0m\u001b[0madd_artificial\u001b[0m\u001b[0;34m(\u001b[0m\u001b[0ms\u001b[0m\u001b[0;34m.\u001b[0m\u001b[0msample\u001b[0m\u001b[0;34m(\u001b[0m\u001b[0mmodel\u001b[0m\u001b[0;34m,\u001b[0m \u001b[0mnum_iter\u001b[0m\u001b[0;34m=\u001b[0m\u001b[0;36m10\u001b[0m\u001b[0;34m,\u001b[0m \u001b[0mlearning_rate\u001b[0m\u001b[0;34m=\u001b[0m\u001b[0;36m1e-2\u001b[0m\u001b[0;34m)\u001b[0m\u001b[0;34m)\u001b[0m\u001b[0;34m;\u001b[0m\u001b[0;34m\u001b[0m\u001b[0;34m\u001b[0m\u001b[0m\n\u001b[0m",
      "\u001b[0;32m<ipython-input-3-bc5afe1bbcaf>\u001b[0m in \u001b[0;36msample\u001b[0;34m(self, module, num_iter, learning_rate, add_noise)\u001b[0m\n\u001b[1;32m     24\u001b[0m             \u001b[0mclasses\u001b[0m \u001b[0;34m=\u001b[0m \u001b[0;34m-\u001b[0m\u001b[0mmodule\u001b[0m\u001b[0;34m.\u001b[0m\u001b[0mto_synth\u001b[0m\u001b[0;34m(\u001b[0m\u001b[0;34m)\u001b[0m\u001b[0;34m;\u001b[0m\u001b[0;34m\u001b[0m\u001b[0;34m\u001b[0m\u001b[0m\n\u001b[1;32m     25\u001b[0m             \u001b[0;32mfor\u001b[0m \u001b[0mj\u001b[0m \u001b[0;32min\u001b[0m \u001b[0mrange\u001b[0m\u001b[0;34m(\u001b[0m\u001b[0mclasses\u001b[0m\u001b[0;34m.\u001b[0m\u001b[0mshape\u001b[0m\u001b[0;34m[\u001b[0m\u001b[0;36m0\u001b[0m\u001b[0;34m]\u001b[0m\u001b[0;34m)\u001b[0m\u001b[0;34m:\u001b[0m\u001b[0;34m\u001b[0m\u001b[0;34m\u001b[0m\u001b[0m\n\u001b[0;32m---> 26\u001b[0;31m                 \u001b[0mclasses\u001b[0m\u001b[0;34m[\u001b[0m\u001b[0mj\u001b[0m\u001b[0;34m,\u001b[0m \u001b[0mj\u001b[0m\u001b[0;34m,\u001b[0m \u001b[0;34m...\u001b[0m\u001b[0;34m]\u001b[0m\u001b[0;34m.\u001b[0m\u001b[0mbackward\u001b[0m\u001b[0;34m(\u001b[0m\u001b[0mretain_graph\u001b[0m\u001b[0;34m=\u001b[0m\u001b[0;32mTrue\u001b[0m\u001b[0;34m)\u001b[0m\u001b[0;34m;\u001b[0m\u001b[0;34m\u001b[0m\u001b[0;34m\u001b[0m\u001b[0m\n\u001b[0m\u001b[1;32m     27\u001b[0m \u001b[0;34m\u001b[0m\u001b[0m\n\u001b[1;32m     28\u001b[0m             \u001b[0;32mif\u001b[0m \u001b[0madd_noise\u001b[0m\u001b[0;34m:\u001b[0m\u001b[0;34m\u001b[0m\u001b[0;34m\u001b[0m\u001b[0m\n",
      "\u001b[0;32m~/anaconda3/lib/python3.7/site-packages/torch/tensor.py\u001b[0m in \u001b[0;36mbackward\u001b[0;34m(self, gradient, retain_graph, create_graph)\u001b[0m\n\u001b[1;32m    100\u001b[0m                 \u001b[0mproducts\u001b[0m\u001b[0;34m.\u001b[0m \u001b[0mDefaults\u001b[0m \u001b[0mto\u001b[0m\u001b[0;31m \u001b[0m\u001b[0;31m`\u001b[0m\u001b[0;31m`\u001b[0m\u001b[0;32mFalse\u001b[0m\u001b[0;31m`\u001b[0m\u001b[0;31m`\u001b[0m\u001b[0;34m.\u001b[0m\u001b[0;34m\u001b[0m\u001b[0;34m\u001b[0m\u001b[0m\n\u001b[1;32m    101\u001b[0m         \"\"\"\n\u001b[0;32m--> 102\u001b[0;31m         \u001b[0mtorch\u001b[0m\u001b[0;34m.\u001b[0m\u001b[0mautograd\u001b[0m\u001b[0;34m.\u001b[0m\u001b[0mbackward\u001b[0m\u001b[0;34m(\u001b[0m\u001b[0mself\u001b[0m\u001b[0;34m,\u001b[0m \u001b[0mgradient\u001b[0m\u001b[0;34m,\u001b[0m \u001b[0mretain_graph\u001b[0m\u001b[0;34m,\u001b[0m \u001b[0mcreate_graph\u001b[0m\u001b[0;34m)\u001b[0m\u001b[0;34m\u001b[0m\u001b[0;34m\u001b[0m\u001b[0m\n\u001b[0m\u001b[1;32m    103\u001b[0m \u001b[0;34m\u001b[0m\u001b[0m\n\u001b[1;32m    104\u001b[0m     \u001b[0;32mdef\u001b[0m \u001b[0mregister_hook\u001b[0m\u001b[0;34m(\u001b[0m\u001b[0mself\u001b[0m\u001b[0;34m,\u001b[0m \u001b[0mhook\u001b[0m\u001b[0;34m)\u001b[0m\u001b[0;34m:\u001b[0m\u001b[0;34m\u001b[0m\u001b[0;34m\u001b[0m\u001b[0m\n",
      "\u001b[0;32m~/anaconda3/lib/python3.7/site-packages/torch/autograd/__init__.py\u001b[0m in \u001b[0;36mbackward\u001b[0;34m(tensors, grad_tensors, retain_graph, create_graph, grad_variables)\u001b[0m\n\u001b[1;32m     82\u001b[0m         \u001b[0mgrad_tensors\u001b[0m \u001b[0;34m=\u001b[0m \u001b[0mlist\u001b[0m\u001b[0;34m(\u001b[0m\u001b[0mgrad_tensors\u001b[0m\u001b[0;34m)\u001b[0m\u001b[0;34m\u001b[0m\u001b[0;34m\u001b[0m\u001b[0m\n\u001b[1;32m     83\u001b[0m \u001b[0;34m\u001b[0m\u001b[0m\n\u001b[0;32m---> 84\u001b[0;31m     \u001b[0mgrad_tensors\u001b[0m \u001b[0;34m=\u001b[0m \u001b[0m_make_grads\u001b[0m\u001b[0;34m(\u001b[0m\u001b[0mtensors\u001b[0m\u001b[0;34m,\u001b[0m \u001b[0mgrad_tensors\u001b[0m\u001b[0;34m)\u001b[0m\u001b[0;34m\u001b[0m\u001b[0;34m\u001b[0m\u001b[0m\n\u001b[0m\u001b[1;32m     85\u001b[0m     \u001b[0;32mif\u001b[0m \u001b[0mretain_graph\u001b[0m \u001b[0;32mis\u001b[0m \u001b[0;32mNone\u001b[0m\u001b[0;34m:\u001b[0m\u001b[0;34m\u001b[0m\u001b[0;34m\u001b[0m\u001b[0m\n\u001b[1;32m     86\u001b[0m         \u001b[0mretain_graph\u001b[0m \u001b[0;34m=\u001b[0m \u001b[0mcreate_graph\u001b[0m\u001b[0;34m\u001b[0m\u001b[0;34m\u001b[0m\u001b[0m\n",
      "\u001b[0;32m~/anaconda3/lib/python3.7/site-packages/torch/autograd/__init__.py\u001b[0m in \u001b[0;36m_make_grads\u001b[0;34m(outputs, grads)\u001b[0m\n\u001b[1;32m     27\u001b[0m                 \u001b[0;32mif\u001b[0m \u001b[0mout\u001b[0m\u001b[0;34m.\u001b[0m\u001b[0mnumel\u001b[0m\u001b[0;34m(\u001b[0m\u001b[0;34m)\u001b[0m \u001b[0;34m!=\u001b[0m \u001b[0;36m1\u001b[0m\u001b[0;34m:\u001b[0m\u001b[0;34m\u001b[0m\u001b[0;34m\u001b[0m\u001b[0m\n\u001b[1;32m     28\u001b[0m                     \u001b[0;32mraise\u001b[0m \u001b[0mRuntimeError\u001b[0m\u001b[0;34m(\u001b[0m\u001b[0;34m\"grad can be implicitly created only for scalar outputs\"\u001b[0m\u001b[0;34m)\u001b[0m\u001b[0;34m\u001b[0m\u001b[0;34m\u001b[0m\u001b[0m\n\u001b[0;32m---> 29\u001b[0;31m                 \u001b[0mnew_grads\u001b[0m\u001b[0;34m.\u001b[0m\u001b[0mappend\u001b[0m\u001b[0;34m(\u001b[0m\u001b[0mtorch\u001b[0m\u001b[0;34m.\u001b[0m\u001b[0mones_like\u001b[0m\u001b[0;34m(\u001b[0m\u001b[0mout\u001b[0m\u001b[0;34m)\u001b[0m\u001b[0;34m)\u001b[0m\u001b[0;34m\u001b[0m\u001b[0;34m\u001b[0m\u001b[0m\n\u001b[0m\u001b[1;32m     30\u001b[0m             \u001b[0;32melse\u001b[0m\u001b[0;34m:\u001b[0m\u001b[0;34m\u001b[0m\u001b[0;34m\u001b[0m\u001b[0m\n\u001b[1;32m     31\u001b[0m                 \u001b[0mnew_grads\u001b[0m\u001b[0;34m.\u001b[0m\u001b[0mappend\u001b[0m\u001b[0;34m(\u001b[0m\u001b[0;32mNone\u001b[0m\u001b[0;34m)\u001b[0m\u001b[0;34m\u001b[0m\u001b[0;34m\u001b[0m\u001b[0m\n",
      "\u001b[0;31mKeyboardInterrupt\u001b[0m: "
     ]
    }
   ],
   "source": [
    "l = 1000;\n",
    "tmax = 100;\n",
    "train_loader, val_loader = get_data_loaders(256, 256);\n",
    "for t in range(tmax):\n",
    "    model = MnistResNet().cuda();\n",
    "    train(model, train_loader, val_loader);\n",
    "    \n",
    "    s = Synthesis(init_std=0.3)\n",
    "    for i in range(l):\n",
    "        train_loader.dataset.add_artificial(s.sample(model, num_iter=50, learning_rate=1e-1, add_noise=True));"
   ]
  },
  {
   "cell_type": "code",
   "execution_count": 139,
   "metadata": {},
   "outputs": [],
   "source": [
    "class Synthesis():\n",
    "    def __init__(self, init_std=0.3):\n",
    "        self.init_std = init_std;\n",
    "        \n",
    "    def sample(self, module, num_iter=10, learning_rate=1e-2, add_noise=True):\n",
    "        assert isinstance(module.X, torch.nn.Parameter), 'Expected X to be an instance of torch.nn.Parameter';\n",
    "        \n",
    "        model.train(False);\n",
    "        \n",
    "        # we do not want to create a graph and do backprop on net parameters, since we need only gradient of X\n",
    "        for name, param in module.named_parameters():\n",
    "            if name != 'X':\n",
    "                param.requires_grad = False;\n",
    "            else:\n",
    "                param.requires_grad = True;\n",
    "        \n",
    "        module.X.data = module.X.data.normal_(mean=0, std=self.init_std);\n",
    "        #module.X.data = module.X.data.fill_(0);\n",
    "        #opt = torch.optim.SGD([module.X], lr=learning_rate);\n",
    "        opt = torch.optim.Adam([module.X], lr=learning_rate, amsgrad=True);\n",
    "        std_noise = learning_rate;\n",
    "        \n",
    "        for i in range(num_iter):\n",
    "            opt.zero_grad();\n",
    "            classes = -module.to_synth();\n",
    "            for j in range(classes.shape[0]):\n",
    "                classes[j, j, ...].backward(retain_graph=True);\n",
    "                \n",
    "            if add_noise:\n",
    "                module.X.data += torch.empty_like(module.X.data).normal_(mean=0, std=std_noise);\n",
    "                std_noise *= 0.9; \n",
    "            opt.step()\n",
    "#            opt.param_groups[0]['lr'] *= 0.95;\n",
    "        model.train(True);\n",
    "        \n",
    "        for name, param in module.named_parameters():\n",
    "            if name != 'X':\n",
    "                param.requires_grad = True;\n",
    "            else:\n",
    "                param.requires_grad = False;\n",
    "        \n",
    "        return module.X.data;"
   ]
  },
  {
   "cell_type": "code",
   "execution_count": 137,
   "metadata": {},
   "outputs": [
    {
     "data": {
      "image/png": "[encoded data removed]",
      "text/plain": [
       "<Figure size 1224x720 with 50 Axes>"
      ]
     },
     "metadata": {
      "needs_background": "light"
     },
     "output_type": "display_data"
    }
   ],
   "source": [
    "fig,ax = plt.subplots(nrows=5, ncols=10, figsize=(17,10));\n",
    "for j in range(5):\n",
    "    s = Synthesis(init_std=0.3)\n",
    "    aug = s.sample(model, num_iter=50, learning_rate=1e-1, add_noise=True);\n",
    "    for i in range(10):\n",
    "        ax[j][i].imshow(aug[i,0,...].cpu());\n",
    "        ax[j][i].axis('off');"
   ]
  },
  {
   "cell_type": "code",
   "execution_count": null,
   "metadata": {},
   "outputs": [],
   "source": []
  }
 ],
 "metadata": {
  "kernelspec": {
   "display_name": "Python 3",
   "language": "python",
   "name": "python3"
  },
  "language_info": {
   "codemirror_mode": {
    "name": "ipython",
    "version": 3
   },
   "file_extension": ".py",
   "mimetype": "text/x-python",
   "name": "python",
   "nbconvert_exporter": "python",
   "pygments_lexer": "ipython3",
   "version": "3.7.1"
  }
 },
 "nbformat": 4,
 "nbformat_minor": 2
}
